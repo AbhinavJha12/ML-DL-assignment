{
  "metadata": {
    "kernelspec": {
      "display_name": "Python 3",
      "language": "python",
      "name": "python3"
    },
    "language_info": {
      "codemirror_mode": {
        "name": "ipython",
        "version": 3
      },
      "file_extension": ".py",
      "mimetype": "text/x-python",
      "name": "python",
      "nbconvert_exporter": "python",
      "pygments_lexer": "ipython3",
      "version": "3.7.0"
    },
    "colab": {
      "name": "svm-classifier-assignment.ipynb",
      "provenance": [],
      "collapsed_sections": [
        "OlbBziOa266L",
        "THOfznwC266M"
      ]
    }
  },
  "nbformat_minor": 0,
  "nbformat": 4,
  "cells": [
    {
      "cell_type": "markdown",
      "source": [
        "<a class=\"anchor\" id=\"0\"></a>\n",
        "# **Support Vector Machines Classifier Tutorial with Python** \n",
        "\n"
      ],
      "metadata": {
        "id": "By-bY7wr2650"
      }
    },
    {
      "cell_type": "markdown",
      "source": [
        "# **2. Support Vector Machines intuition** <a class=\"anchor\" id=\"2\"></a>\n",
        "\n",
        "\n",
        "\n",
        "\n",
        "Now, we should be familiar with some SVM terminology. \n",
        "\n",
        "\n",
        "### Hyperplane\n",
        "\n",
        "A hyperplane is a decision boundary which separates between given set of data points having different class labels. The SVM classifier separates data points using a hyperplane with the maximum amount of margin. This hyperplane is known as the `maximum margin hyperplane` and the linear classifier it defines is known as the `maximum margin classifier`.\n",
        "\n",
        "\n",
        "### Support Vectors\n",
        "\n",
        "Support vectors are the sample data points, which are closest to the hyperplane.  These data points will define the separating line or hyperplane better by calculating margins.\n",
        "\n",
        "\n",
        "### Margin\n",
        "\n",
        "A margin is a separation gap between the two lines on the closest data points. It is calculated as the perpendicular distance from the line to support vectors or closest data points. In SVMs, we try to maximize this separation gap so that we get maximum margin.\n",
        "\n",
        "The following diagram illustrates these concepts visually.\n",
        "\n",
        "\n",
        "### Margin in SVM\n",
        "\n",
        "![Margin in SVM](https://static.wixstatic.com/media/8f929f_7ecacdcf69d2450087cb4a898ef90837~mv2.png)\n",
        "\n",
        "\n",
        "### SVM Under the hood\n",
        "\n",
        "In SVMs, our main objective is to select a hyperplane with the maximum possible margin between support vectors in the given dataset. SVM searches for the maximum margin hyperplane in the following 2 step process –\n",
        "\n",
        "\n",
        "1.\tGenerate hyperplanes which segregates the classes in the best possible way. There are many hyperplanes that might classify the data. We should look for the best hyperplane that represents the largest separation, or margin, between the two classes.\n",
        "\n",
        "2.\tSo, we choose the hyperplane so that distance from it to the support vectors on each side is maximized. If such a hyperplane exists, it is known as the **maximum margin hyperplane** and the linear classifier it defines is known as a **maximum margin classifier**. \n",
        "\n",
        "\n",
        "The following diagram illustrates the concept of **maximum margin** and **maximum margin hyperplane** in a clear manner.\n",
        "\n",
        "\n",
        "### Maximum margin hyperplane\n",
        "\n",
        "![Maximum margin hyperplane](https://static.packt-cdn.com/products/9781783555130/graphics/3547_03_07.jpg)\n",
        "\n",
        "\n",
        "\n",
        "### Problem with dispersed datasets\n",
        "\n",
        "\n",
        "Sometimes, the sample data points are so dispersed that it is not possible to separate them using a linear hyperplane. \n",
        "In such a situation, SVMs uses a `kernel trick` to transform the input space to a higher dimensional space as shown in the diagram below. It uses a mapping function to transform the 2-D input space into the 3-D input space. Now, we can easily segregate the data points using linear separation.\n",
        "\n",
        "\n",
        "### Kernel trick - transformation of input space to higher dimensional space\n",
        "\n",
        "![Kernel trick](http://www.aionlinecourse.com/uploads/tutorials/2019/07/11_21_kernel_svm_3.png)\n",
        "\n"
      ],
      "metadata": {
        "id": "1b6hT5cC2657"
      }
    },
    {
      "cell_type": "markdown",
      "source": [
        "# **3. Kernel trick** <a class=\"anchor\" id=\"3\"></a>\n",
        "\n",
        "\n",
        "\n",
        "\n",
        "In practice, SVM algorithm is implemented using a `kernel`. It uses a technique called the `kernel trick`. In simple words, a `kernel` is just a function that maps the data to a higher dimension where data is separable. A kernel transforms a low-dimensional input data space into a higher dimensional space. So, it converts non-linear separable problems to linear separable problems by adding more dimensions to it. Thus, the kernel trick helps us to build a more accurate classifier. Hence, it is useful in non-linear separation problems."
      ],
      "metadata": {
        "id": "OMO_4hiz2659"
      }
    },
    {
      "cell_type": "markdown",
      "source": [
        "We can define a kernel function as follows-\n",
        "\n",
        "\n",
        "### Kernel function\n",
        "\n",
        "![Kernel function](https://encrypted-tbn0.gstatic.com/images?q=tbn:ANd9GcTodZptqcRor0LGo8Qn7_kJB9n9BACMt6jgIPZ4C3g_rgh_uSRZLQ&s)"
      ],
      "metadata": {
        "id": "jpV08-R9265-"
      }
    },
    {
      "cell_type": "markdown",
      "source": [
        "In the context of SVMs, there are 4 popular kernels – `Linear kernel`,`Polynomial kernel`,`Radial Basis Function (RBF) kernel` (also called Gaussian kernel) and `Sigmoid kernel`. These are described below -"
      ],
      "metadata": {
        "id": "e_fQU5zC265_"
      }
    },
    {
      "cell_type": "markdown",
      "source": [
        "## **3.1 Linear kernel**\n",
        "\n",
        "In linear kernel, the kernel function takes the form of a linear function as follows-\n",
        "\n",
        "**linear kernel : K(xi , xj ) = xiT xj**\n",
        "\n",
        "Linear kernel is used when the data is linearly separable. It means that data can be separated using a single line. It is one of the most common kernels to be used. It is mostly used when there are large number of features in a dataset. Linear kernel is often used for text classification purposes.\n",
        "\n",
        "Training with a linear kernel is usually faster, because we only need to optimize the C regularization parameter. When training with other kernels, we also need to optimize the γ parameter. So, performing a grid search will usually take more time.\n",
        "\n",
        "Linear kernel can be visualized with the following figure.\n",
        "\n",
        "### Linear Kernel\n",
        "\n",
        "![Linear Kernel](https://scikit-learn.org/stable/_images/sphx_glr_plot_svm_kernels_thumb.png)"
      ],
      "metadata": {
        "id": "SseZgPD_265_"
      }
    },
    {
      "cell_type": "markdown",
      "source": [
        "## **3.2 Polynomial Kernel**\n",
        "\n",
        "Polynomial kernel represents the similarity of vectors (training samples) in a feature space over polynomials of the original variables. The polynomial kernel looks not only at the given features of input samples to determine their similarity, but also combinations of the input samples.\n",
        "\n",
        "For degree-d polynomials, the polynomial kernel is defined as follows –\n",
        "\n",
        "**Polynomial kernel : K(xi , xj ) = (γxiT xj + r)d , γ > 0**\n",
        "\n",
        "Polynomial kernel is very popular in Natural Language Processing. The most common degree is d = 2 (quadratic), since larger degrees tend to overfit on NLP problems. It can be visualized with the following diagram.\n",
        "\n",
        "### Polynomial Kernel\n",
        "\n",
        "![Polynomial Kernel](https://www.researchgate.net/profile/Cheng_Soon_Ong/publication/23442384/figure/fig12/AS:341444054274063@1458418014823/The-effect-of-the-degree-of-a-polynomial-kernel-The-polynomial-kernel-of-degree-1-leads.png)"
      ],
      "metadata": {
        "id": "gPvihscg266A"
      }
    },
    {
      "cell_type": "markdown",
      "source": [
        "## **3.3 Radial Basis Function Kernel**\n",
        "\n",
        "Radial basis function kernel is a general purpose kernel. It is used when we have no prior knowledge about the data. The RBF kernel on two samples x and y is defined by the following equation –\n",
        "\n",
        "\n",
        "### Radial Basis Function kernel\n",
        "\n",
        "![RBK Kernel](data:image/png;base64,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)"
      ],
      "metadata": {
        "id": "T4KSsRjl266B"
      }
    },
    {
      "cell_type": "markdown",
      "source": [
        "The following diagram demonstrates the SVM classification with rbf kernel.\n",
        "\n",
        "### SVM Classification with rbf kernel\n",
        "\n",
        "![SVM Classification with rbf kernel](https://www.researchgate.net/profile/Periklis_Gogas/publication/286180566/figure/fig5/AS:304327777374210@1449568804246/An-example-of-an-SVM-classification-using-the-RBF-kernel-The-two-classes-are-separated.png)"
      ],
      "metadata": {
        "id": "WMTgPFR0266D"
      }
    },
    {
      "cell_type": "markdown",
      "source": [
        "## **3.4 Sigmoid kernel**\n",
        "\n",
        "Sigmoid kernel has its origin in neural networks. We can use it as the proxy for neural networks. Sigmoid kernel is given by the following equation –\n",
        "\n",
        "**sigmoid kernel : k (x, y) = tanh(αxTy + c)**"
      ],
      "metadata": {
        "id": "vnqW9WB6266E"
      }
    },
    {
      "cell_type": "markdown",
      "source": [
        "Sigmoid kernel can be visualized with the following diagram-\n",
        "\n",
        "### Sigmoid kernel\n",
        "\n",
        "![Sigmoid kernel](https://encrypted-tbn0.gstatic.com/images?q=tbn:ANd9GcTKeXbOIlniBXYwMYlEYLKPwZZg8vFU1wVm3RWMACjVcT4iBVDy&s)"
      ],
      "metadata": {
        "id": "OqERWGQM266F"
      }
    },
    {
      "cell_type": "markdown",
      "source": [
        "# **4. SVM Scikit-Learn libraries** <a class=\"anchor\" id=\"4\"></a>\n",
        "\n",
        "\n",
        "\n",
        "Scikit-Learn provides useful libraries to implement Support Vector Machine algorithm on a dataset. There are many libraries that can help us to implement SVM smoothly. We just need to call the library with parameters that suit to our needs. In this project, I am dealing with a classification task. So, I will mention the Scikit-Learn libraries for SVM classification purposes.\n",
        "\n",
        "First, there is a **LinearSVC()** classifier. As the name suggests, this classifier uses only linear kernel. In LinearSVC() classifier, we don’t pass the value of kernel since it is used only for linear classification purposes.\n",
        "\n",
        "Scikit-Learn provides two other classifiers - **SVC()** and **NuSVC()** which are used for classification purposes. These classifiers are mostly similar with some difference in parameters. **NuSVC()** is similar to **SVC()** but uses a parameter to control the number of support vectors. We pass the values of kernel, gamma and C along with other parameters. By default kernel parameter uses rbf as its value but we can pass values like poly, linear, sigmoid or callable function."
      ],
      "metadata": {
        "id": "v6PXyqa0266F"
      }
    },
    {
      "cell_type": "markdown",
      "source": [
        "# **5. Dataset description** <a class=\"anchor\" id=\"5\"></a>\n",
        "\n",
        "\n",
        "\n",
        "I have used the **Predicting a Pulsar Star** dataset for this project.\n",
        "\n",
        "Pulsars are a rare type of Neutron star that produce radio emission detectable here on Earth. They are of considerable scientific interest as probes of space-time, the inter-stellar medium, and states of matter. Classification algorithms in particular are being adopted, which treat the data sets as binary classification problems. Here the legitimate pulsar examples form  minority positive class and spurious examples form the majority negative class.\n",
        "\n",
        "The data set shared here contains 16,259 spurious examples caused by RFI/noise, and 1,639 real pulsar examples. Each row lists the variables first, and the class label is the final entry. The class labels used are 0 (negative) and 1 (positive).\n",
        "\n",
        "\n",
        "### Attribute Information:\n",
        "\n",
        "\n",
        "Each candidate is described by 8 continuous variables, and a single class variable. The first four are simple statistics obtained from the integrated pulse profile. The remaining four variables are similarly obtained from the DM-SNR curve . These are summarised below:\n",
        "\n",
        "1. Mean of the integrated profile.\n",
        "\n",
        "2. Standard deviation of the integrated profile.\n",
        "\n",
        "3. Excess kurtosis of the integrated profile.\n",
        "\n",
        "4. Skewness of the integrated profile.\n",
        "\n",
        "5. Mean of the DM-SNR curve.\n",
        "\n",
        "6. Standard deviation of the DM-SNR curve.\n",
        "\n",
        "7. Excess kurtosis of the DM-SNR curve.\n",
        "\n",
        "8. Skewness of the DM-SNR curve.\n",
        "\n",
        "9. Class"
      ],
      "metadata": {
        "id": "zx5mZdnC266F"
      }
    },
    {
      "cell_type": "markdown",
      "source": [
        "# **6. Import libraries** <a class=\"anchor\" id=\"6\"></a>\n",
        "\n",
        "\n",
        "\n",
        "I will start off by importing the required Python libraries."
      ],
      "metadata": {
        "id": "gzFHkwUr266G"
      }
    },
    {
      "cell_type": "code",
      "source": [
        "from sklearn.datasets import make_blobs\n",
        "import numpy as np\n",
        "from sklearn.model_selection import train_test_split\n",
        "from sklearn import svm\n",
        "from sklearn.metrics import accuracy_score\n",
        "import matplotlib.colors\n",
        "import matplotlib.pyplot as plt\n"
      ],
      "metadata": {
        "trusted": true,
        "id": "uMCZwlYR266G"
      },
      "execution_count": 1,
      "outputs": []
    },
    {
      "cell_type": "markdown",
      "source": [
        "# **7.Import dataset** <a class=\"anchor\" id=\"7\"></a>\n"
      ],
      "metadata": {
        "id": "807Rpo_V266H"
      }
    },
    {
      "cell_type": "code",
      "source": [
        "from google.colab import drive\n",
        "drive.mount(\"/content/gdrive\")\n",
        "\n",
        "#convert the data into a dataframe\n"
      ],
      "metadata": {
        "trusted": true,
        "id": "y0-3MtTI266H",
        "colab": {
          "base_uri": "https://localhost:8080/"
        },
        "outputId": "55e971fc-0bc8-4335-a5fb-0ad47d0d2c8c"
      },
      "execution_count": 2,
      "outputs": [
        {
          "output_type": "stream",
          "name": "stdout",
          "text": [
            "Mounted at /content/gdrive\n"
          ]
        }
      ]
    },
    {
      "cell_type": "code",
      "source": [
        "import pandas as pd\n",
        "pd.read_csv('/content/gdrive/My Drive/Data/pulsar_data_train.csv')"
      ],
      "metadata": {
        "colab": {
          "base_uri": "https://localhost:8080/",
          "height": 502
        },
        "id": "nvMINRVm-a0d",
        "outputId": "295fbbd3-df49-438f-d371-9eaae76c1299"
      },
      "execution_count": 3,
      "outputs": [
        {
          "output_type": "execute_result",
          "data": {
            "text/html": [
              "\n",
              "  <div id=\"df-167c1400-cefa-4045-a386-5473a562332c\">\n",
              "    <div class=\"colab-df-container\">\n",
              "      <div>\n",
              "<style scoped>\n",
              "    .dataframe tbody tr th:only-of-type {\n",
              "        vertical-align: middle;\n",
              "    }\n",
              "\n",
              "    .dataframe tbody tr th {\n",
              "        vertical-align: top;\n",
              "    }\n",
              "\n",
              "    .dataframe thead th {\n",
              "        text-align: right;\n",
              "    }\n",
              "</style>\n",
              "<table border=\"1\" class=\"dataframe\">\n",
              "  <thead>\n",
              "    <tr style=\"text-align: right;\">\n",
              "      <th></th>\n",
              "      <th>Mean of the integrated profile</th>\n",
              "      <th>Standard deviation of the integrated profile</th>\n",
              "      <th>Excess kurtosis of the integrated profile</th>\n",
              "      <th>Skewness of the integrated profile</th>\n",
              "      <th>Mean of the DM-SNR curve</th>\n",
              "      <th>Standard deviation of the DM-SNR curve</th>\n",
              "      <th>Excess kurtosis of the DM-SNR curve</th>\n",
              "      <th>Skewness of the DM-SNR curve</th>\n",
              "      <th>target_class</th>\n",
              "    </tr>\n",
              "  </thead>\n",
              "  <tbody>\n",
              "    <tr>\n",
              "      <th>0</th>\n",
              "      <td>121.156250</td>\n",
              "      <td>48.372971</td>\n",
              "      <td>0.375485</td>\n",
              "      <td>-0.013165</td>\n",
              "      <td>3.168896</td>\n",
              "      <td>18.399367</td>\n",
              "      <td>7.449874</td>\n",
              "      <td>65.159298</td>\n",
              "      <td>0.0</td>\n",
              "    </tr>\n",
              "    <tr>\n",
              "      <th>1</th>\n",
              "      <td>76.968750</td>\n",
              "      <td>36.175557</td>\n",
              "      <td>0.712898</td>\n",
              "      <td>3.388719</td>\n",
              "      <td>2.399666</td>\n",
              "      <td>17.570997</td>\n",
              "      <td>9.414652</td>\n",
              "      <td>102.722975</td>\n",
              "      <td>0.0</td>\n",
              "    </tr>\n",
              "    <tr>\n",
              "      <th>2</th>\n",
              "      <td>130.585938</td>\n",
              "      <td>53.229534</td>\n",
              "      <td>0.133408</td>\n",
              "      <td>-0.297242</td>\n",
              "      <td>2.743311</td>\n",
              "      <td>22.362553</td>\n",
              "      <td>8.508364</td>\n",
              "      <td>74.031324</td>\n",
              "      <td>0.0</td>\n",
              "    </tr>\n",
              "    <tr>\n",
              "      <th>3</th>\n",
              "      <td>156.398438</td>\n",
              "      <td>48.865942</td>\n",
              "      <td>-0.215989</td>\n",
              "      <td>-0.171294</td>\n",
              "      <td>17.471572</td>\n",
              "      <td>NaN</td>\n",
              "      <td>2.958066</td>\n",
              "      <td>7.197842</td>\n",
              "      <td>0.0</td>\n",
              "    </tr>\n",
              "    <tr>\n",
              "      <th>4</th>\n",
              "      <td>84.804688</td>\n",
              "      <td>36.117659</td>\n",
              "      <td>0.825013</td>\n",
              "      <td>3.274125</td>\n",
              "      <td>2.790134</td>\n",
              "      <td>20.618009</td>\n",
              "      <td>8.405008</td>\n",
              "      <td>76.291128</td>\n",
              "      <td>0.0</td>\n",
              "    </tr>\n",
              "    <tr>\n",
              "      <th>...</th>\n",
              "      <td>...</td>\n",
              "      <td>...</td>\n",
              "      <td>...</td>\n",
              "      <td>...</td>\n",
              "      <td>...</td>\n",
              "      <td>...</td>\n",
              "      <td>...</td>\n",
              "      <td>...</td>\n",
              "      <td>...</td>\n",
              "    </tr>\n",
              "    <tr>\n",
              "      <th>12523</th>\n",
              "      <td>124.312500</td>\n",
              "      <td>53.179053</td>\n",
              "      <td>-0.012418</td>\n",
              "      <td>-0.556021</td>\n",
              "      <td>7.186455</td>\n",
              "      <td>29.308266</td>\n",
              "      <td>4.531382</td>\n",
              "      <td>21.725143</td>\n",
              "      <td>0.0</td>\n",
              "    </tr>\n",
              "    <tr>\n",
              "      <th>12524</th>\n",
              "      <td>115.617188</td>\n",
              "      <td>46.784600</td>\n",
              "      <td>0.218177</td>\n",
              "      <td>0.226757</td>\n",
              "      <td>6.140468</td>\n",
              "      <td>NaN</td>\n",
              "      <td>5.732201</td>\n",
              "      <td>34.357283</td>\n",
              "      <td>0.0</td>\n",
              "    </tr>\n",
              "    <tr>\n",
              "      <th>12525</th>\n",
              "      <td>116.031250</td>\n",
              "      <td>43.213846</td>\n",
              "      <td>0.663456</td>\n",
              "      <td>0.433088</td>\n",
              "      <td>0.785117</td>\n",
              "      <td>11.628149</td>\n",
              "      <td>17.055215</td>\n",
              "      <td>312.204325</td>\n",
              "      <td>0.0</td>\n",
              "    </tr>\n",
              "    <tr>\n",
              "      <th>12526</th>\n",
              "      <td>135.664062</td>\n",
              "      <td>49.933749</td>\n",
              "      <td>-0.089940</td>\n",
              "      <td>-0.226726</td>\n",
              "      <td>3.859532</td>\n",
              "      <td>21.501505</td>\n",
              "      <td>7.398395</td>\n",
              "      <td>62.334018</td>\n",
              "      <td>0.0</td>\n",
              "    </tr>\n",
              "    <tr>\n",
              "      <th>12527</th>\n",
              "      <td>120.726562</td>\n",
              "      <td>50.472256</td>\n",
              "      <td>0.346178</td>\n",
              "      <td>0.184797</td>\n",
              "      <td>0.769231</td>\n",
              "      <td>11.792603</td>\n",
              "      <td>17.662222</td>\n",
              "      <td>329.548016</td>\n",
              "      <td>0.0</td>\n",
              "    </tr>\n",
              "  </tbody>\n",
              "</table>\n",
              "<p>12528 rows × 9 columns</p>\n",
              "</div>\n",
              "      <button class=\"colab-df-convert\" onclick=\"convertToInteractive('df-167c1400-cefa-4045-a386-5473a562332c')\"\n",
              "              title=\"Convert this dataframe to an interactive table.\"\n",
              "              style=\"display:none;\">\n",
              "        \n",
              "  <svg xmlns=\"http://www.w3.org/2000/svg\" height=\"24px\"viewBox=\"0 0 24 24\"\n",
              "       width=\"24px\">\n",
              "    <path d=\"M0 0h24v24H0V0z\" fill=\"none\"/>\n",
              "    <path d=\"M18.56 5.44l.94 2.06.94-2.06 2.06-.94-2.06-.94-.94-2.06-.94 2.06-2.06.94zm-11 1L8.5 8.5l.94-2.06 2.06-.94-2.06-.94L8.5 2.5l-.94 2.06-2.06.94zm10 10l.94 2.06.94-2.06 2.06-.94-2.06-.94-.94-2.06-.94 2.06-2.06.94z\"/><path d=\"M17.41 7.96l-1.37-1.37c-.4-.4-.92-.59-1.43-.59-.52 0-1.04.2-1.43.59L10.3 9.45l-7.72 7.72c-.78.78-.78 2.05 0 2.83L4 21.41c.39.39.9.59 1.41.59.51 0 1.02-.2 1.41-.59l7.78-7.78 2.81-2.81c.8-.78.8-2.07 0-2.86zM5.41 20L4 18.59l7.72-7.72 1.47 1.35L5.41 20z\"/>\n",
              "  </svg>\n",
              "      </button>\n",
              "      \n",
              "  <style>\n",
              "    .colab-df-container {\n",
              "      display:flex;\n",
              "      flex-wrap:wrap;\n",
              "      gap: 12px;\n",
              "    }\n",
              "\n",
              "    .colab-df-convert {\n",
              "      background-color: #E8F0FE;\n",
              "      border: none;\n",
              "      border-radius: 50%;\n",
              "      cursor: pointer;\n",
              "      display: none;\n",
              "      fill: #1967D2;\n",
              "      height: 32px;\n",
              "      padding: 0 0 0 0;\n",
              "      width: 32px;\n",
              "    }\n",
              "\n",
              "    .colab-df-convert:hover {\n",
              "      background-color: #E2EBFA;\n",
              "      box-shadow: 0px 1px 2px rgba(60, 64, 67, 0.3), 0px 1px 3px 1px rgba(60, 64, 67, 0.15);\n",
              "      fill: #174EA6;\n",
              "    }\n",
              "\n",
              "    [theme=dark] .colab-df-convert {\n",
              "      background-color: #3B4455;\n",
              "      fill: #D2E3FC;\n",
              "    }\n",
              "\n",
              "    [theme=dark] .colab-df-convert:hover {\n",
              "      background-color: #434B5C;\n",
              "      box-shadow: 0px 1px 3px 1px rgba(0, 0, 0, 0.15);\n",
              "      filter: drop-shadow(0px 1px 2px rgba(0, 0, 0, 0.3));\n",
              "      fill: #FFFFFF;\n",
              "    }\n",
              "  </style>\n",
              "\n",
              "      <script>\n",
              "        const buttonEl =\n",
              "          document.querySelector('#df-167c1400-cefa-4045-a386-5473a562332c button.colab-df-convert');\n",
              "        buttonEl.style.display =\n",
              "          google.colab.kernel.accessAllowed ? 'block' : 'none';\n",
              "\n",
              "        async function convertToInteractive(key) {\n",
              "          const element = document.querySelector('#df-167c1400-cefa-4045-a386-5473a562332c');\n",
              "          const dataTable =\n",
              "            await google.colab.kernel.invokeFunction('convertToInteractive',\n",
              "                                                     [key], {});\n",
              "          if (!dataTable) return;\n",
              "\n",
              "          const docLinkHtml = 'Like what you see? Visit the ' +\n",
              "            '<a target=\"_blank\" href=https://colab.research.google.com/notebooks/data_table.ipynb>data table notebook</a>'\n",
              "            + ' to learn more about interactive tables.';\n",
              "          element.innerHTML = '';\n",
              "          dataTable['output_type'] = 'display_data';\n",
              "          await google.colab.output.renderOutput(dataTable, element);\n",
              "          const docLink = document.createElement('div');\n",
              "          docLink.innerHTML = docLinkHtml;\n",
              "          element.appendChild(docLink);\n",
              "        }\n",
              "      </script>\n",
              "    </div>\n",
              "  </div>\n",
              "  "
            ],
            "text/plain": [
              "        Mean of the integrated profile  ...  target_class\n",
              "0                           121.156250  ...           0.0\n",
              "1                            76.968750  ...           0.0\n",
              "2                           130.585938  ...           0.0\n",
              "3                           156.398438  ...           0.0\n",
              "4                            84.804688  ...           0.0\n",
              "...                                ...  ...           ...\n",
              "12523                       124.312500  ...           0.0\n",
              "12524                       115.617188  ...           0.0\n",
              "12525                       116.031250  ...           0.0\n",
              "12526                       135.664062  ...           0.0\n",
              "12527                       120.726562  ...           0.0\n",
              "\n",
              "[12528 rows x 9 columns]"
            ]
          },
          "metadata": {},
          "execution_count": 3
        }
      ]
    },
    {
      "cell_type": "code",
      "source": [
        "pd.read_csv('/content/gdrive/My Drive/Data/pulsar_data_test.csv')"
      ],
      "metadata": {
        "colab": {
          "base_uri": "https://localhost:8080/",
          "height": 502
        },
        "id": "XO1Ktm4k_Jzy",
        "outputId": "9030bb1c-ea92-4a57-8bb1-b1f66a62c61b"
      },
      "execution_count": 4,
      "outputs": [
        {
          "output_type": "execute_result",
          "data": {
            "text/html": [
              "\n",
              "  <div id=\"df-09af7da4-026f-474e-ab05-09174003a0ff\">\n",
              "    <div class=\"colab-df-container\">\n",
              "      <div>\n",
              "<style scoped>\n",
              "    .dataframe tbody tr th:only-of-type {\n",
              "        vertical-align: middle;\n",
              "    }\n",
              "\n",
              "    .dataframe tbody tr th {\n",
              "        vertical-align: top;\n",
              "    }\n",
              "\n",
              "    .dataframe thead th {\n",
              "        text-align: right;\n",
              "    }\n",
              "</style>\n",
              "<table border=\"1\" class=\"dataframe\">\n",
              "  <thead>\n",
              "    <tr style=\"text-align: right;\">\n",
              "      <th></th>\n",
              "      <th>Mean of the integrated profile</th>\n",
              "      <th>Standard deviation of the integrated profile</th>\n",
              "      <th>Excess kurtosis of the integrated profile</th>\n",
              "      <th>Skewness of the integrated profile</th>\n",
              "      <th>Mean of the DM-SNR curve</th>\n",
              "      <th>Standard deviation of the DM-SNR curve</th>\n",
              "      <th>Excess kurtosis of the DM-SNR curve</th>\n",
              "      <th>Skewness of the DM-SNR curve</th>\n",
              "      <th>target_class</th>\n",
              "    </tr>\n",
              "  </thead>\n",
              "  <tbody>\n",
              "    <tr>\n",
              "      <th>0</th>\n",
              "      <td>116.906250</td>\n",
              "      <td>48.920605</td>\n",
              "      <td>0.186046</td>\n",
              "      <td>-0.129815</td>\n",
              "      <td>3.037625</td>\n",
              "      <td>17.737102</td>\n",
              "      <td>8.122621</td>\n",
              "      <td>78.813405</td>\n",
              "      <td>NaN</td>\n",
              "    </tr>\n",
              "    <tr>\n",
              "      <th>1</th>\n",
              "      <td>75.585938</td>\n",
              "      <td>34.386254</td>\n",
              "      <td>2.025498</td>\n",
              "      <td>8.652913</td>\n",
              "      <td>3.765050</td>\n",
              "      <td>21.897049</td>\n",
              "      <td>7.048189</td>\n",
              "      <td>55.878791</td>\n",
              "      <td>NaN</td>\n",
              "    </tr>\n",
              "    <tr>\n",
              "      <th>2</th>\n",
              "      <td>103.273438</td>\n",
              "      <td>46.996628</td>\n",
              "      <td>0.504295</td>\n",
              "      <td>0.821088</td>\n",
              "      <td>2.244983</td>\n",
              "      <td>15.622566</td>\n",
              "      <td>9.330498</td>\n",
              "      <td>105.134941</td>\n",
              "      <td>NaN</td>\n",
              "    </tr>\n",
              "    <tr>\n",
              "      <th>3</th>\n",
              "      <td>101.078125</td>\n",
              "      <td>48.587487</td>\n",
              "      <td>1.011427</td>\n",
              "      <td>1.151870</td>\n",
              "      <td>81.887960</td>\n",
              "      <td>81.464136</td>\n",
              "      <td>0.485105</td>\n",
              "      <td>-1.117904</td>\n",
              "      <td>NaN</td>\n",
              "    </tr>\n",
              "    <tr>\n",
              "      <th>4</th>\n",
              "      <td>113.226562</td>\n",
              "      <td>48.608804</td>\n",
              "      <td>0.291538</td>\n",
              "      <td>0.292120</td>\n",
              "      <td>6.291806</td>\n",
              "      <td>26.585056</td>\n",
              "      <td>4.540138</td>\n",
              "      <td>21.708268</td>\n",
              "      <td>NaN</td>\n",
              "    </tr>\n",
              "    <tr>\n",
              "      <th>...</th>\n",
              "      <td>...</td>\n",
              "      <td>...</td>\n",
              "      <td>...</td>\n",
              "      <td>...</td>\n",
              "      <td>...</td>\n",
              "      <td>...</td>\n",
              "      <td>...</td>\n",
              "      <td>...</td>\n",
              "      <td>...</td>\n",
              "    </tr>\n",
              "    <tr>\n",
              "      <th>5365</th>\n",
              "      <td>116.531250</td>\n",
              "      <td>51.140269</td>\n",
              "      <td>-0.001220</td>\n",
              "      <td>-0.184189</td>\n",
              "      <td>4.510870</td>\n",
              "      <td>26.599514</td>\n",
              "      <td>6.634989</td>\n",
              "      <td>45.362390</td>\n",
              "      <td>NaN</td>\n",
              "    </tr>\n",
              "    <tr>\n",
              "      <th>5366</th>\n",
              "      <td>114.976562</td>\n",
              "      <td>53.783052</td>\n",
              "      <td>0.377599</td>\n",
              "      <td>-0.155708</td>\n",
              "      <td>2.772575</td>\n",
              "      <td>20.838488</td>\n",
              "      <td>8.440796</td>\n",
              "      <td>77.355028</td>\n",
              "      <td>NaN</td>\n",
              "    </tr>\n",
              "    <tr>\n",
              "      <th>5367</th>\n",
              "      <td>136.171875</td>\n",
              "      <td>48.924385</td>\n",
              "      <td>NaN</td>\n",
              "      <td>0.063227</td>\n",
              "      <td>2.810201</td>\n",
              "      <td>18.695230</td>\n",
              "      <td>7.848577</td>\n",
              "      <td>69.388978</td>\n",
              "      <td>NaN</td>\n",
              "    </tr>\n",
              "    <tr>\n",
              "      <th>5368</th>\n",
              "      <td>106.500000</td>\n",
              "      <td>49.066122</td>\n",
              "      <td>0.245742</td>\n",
              "      <td>0.140377</td>\n",
              "      <td>2.331104</td>\n",
              "      <td>15.417568</td>\n",
              "      <td>9.008041</td>\n",
              "      <td>100.367616</td>\n",
              "      <td>NaN</td>\n",
              "    </tr>\n",
              "    <tr>\n",
              "      <th>5369</th>\n",
              "      <td>110.679688</td>\n",
              "      <td>38.252642</td>\n",
              "      <td>0.459937</td>\n",
              "      <td>1.690689</td>\n",
              "      <td>4.434783</td>\n",
              "      <td>22.201794</td>\n",
              "      <td>5.939747</td>\n",
              "      <td>39.781374</td>\n",
              "      <td>NaN</td>\n",
              "    </tr>\n",
              "  </tbody>\n",
              "</table>\n",
              "<p>5370 rows × 9 columns</p>\n",
              "</div>\n",
              "      <button class=\"colab-df-convert\" onclick=\"convertToInteractive('df-09af7da4-026f-474e-ab05-09174003a0ff')\"\n",
              "              title=\"Convert this dataframe to an interactive table.\"\n",
              "              style=\"display:none;\">\n",
              "        \n",
              "  <svg xmlns=\"http://www.w3.org/2000/svg\" height=\"24px\"viewBox=\"0 0 24 24\"\n",
              "       width=\"24px\">\n",
              "    <path d=\"M0 0h24v24H0V0z\" fill=\"none\"/>\n",
              "    <path d=\"M18.56 5.44l.94 2.06.94-2.06 2.06-.94-2.06-.94-.94-2.06-.94 2.06-2.06.94zm-11 1L8.5 8.5l.94-2.06 2.06-.94-2.06-.94L8.5 2.5l-.94 2.06-2.06.94zm10 10l.94 2.06.94-2.06 2.06-.94-2.06-.94-.94-2.06-.94 2.06-2.06.94z\"/><path d=\"M17.41 7.96l-1.37-1.37c-.4-.4-.92-.59-1.43-.59-.52 0-1.04.2-1.43.59L10.3 9.45l-7.72 7.72c-.78.78-.78 2.05 0 2.83L4 21.41c.39.39.9.59 1.41.59.51 0 1.02-.2 1.41-.59l7.78-7.78 2.81-2.81c.8-.78.8-2.07 0-2.86zM5.41 20L4 18.59l7.72-7.72 1.47 1.35L5.41 20z\"/>\n",
              "  </svg>\n",
              "      </button>\n",
              "      \n",
              "  <style>\n",
              "    .colab-df-container {\n",
              "      display:flex;\n",
              "      flex-wrap:wrap;\n",
              "      gap: 12px;\n",
              "    }\n",
              "\n",
              "    .colab-df-convert {\n",
              "      background-color: #E8F0FE;\n",
              "      border: none;\n",
              "      border-radius: 50%;\n",
              "      cursor: pointer;\n",
              "      display: none;\n",
              "      fill: #1967D2;\n",
              "      height: 32px;\n",
              "      padding: 0 0 0 0;\n",
              "      width: 32px;\n",
              "    }\n",
              "\n",
              "    .colab-df-convert:hover {\n",
              "      background-color: #E2EBFA;\n",
              "      box-shadow: 0px 1px 2px rgba(60, 64, 67, 0.3), 0px 1px 3px 1px rgba(60, 64, 67, 0.15);\n",
              "      fill: #174EA6;\n",
              "    }\n",
              "\n",
              "    [theme=dark] .colab-df-convert {\n",
              "      background-color: #3B4455;\n",
              "      fill: #D2E3FC;\n",
              "    }\n",
              "\n",
              "    [theme=dark] .colab-df-convert:hover {\n",
              "      background-color: #434B5C;\n",
              "      box-shadow: 0px 1px 3px 1px rgba(0, 0, 0, 0.15);\n",
              "      filter: drop-shadow(0px 1px 2px rgba(0, 0, 0, 0.3));\n",
              "      fill: #FFFFFF;\n",
              "    }\n",
              "  </style>\n",
              "\n",
              "      <script>\n",
              "        const buttonEl =\n",
              "          document.querySelector('#df-09af7da4-026f-474e-ab05-09174003a0ff button.colab-df-convert');\n",
              "        buttonEl.style.display =\n",
              "          google.colab.kernel.accessAllowed ? 'block' : 'none';\n",
              "\n",
              "        async function convertToInteractive(key) {\n",
              "          const element = document.querySelector('#df-09af7da4-026f-474e-ab05-09174003a0ff');\n",
              "          const dataTable =\n",
              "            await google.colab.kernel.invokeFunction('convertToInteractive',\n",
              "                                                     [key], {});\n",
              "          if (!dataTable) return;\n",
              "\n",
              "          const docLinkHtml = 'Like what you see? Visit the ' +\n",
              "            '<a target=\"_blank\" href=https://colab.research.google.com/notebooks/data_table.ipynb>data table notebook</a>'\n",
              "            + ' to learn more about interactive tables.';\n",
              "          element.innerHTML = '';\n",
              "          dataTable['output_type'] = 'display_data';\n",
              "          await google.colab.output.renderOutput(dataTable, element);\n",
              "          const docLink = document.createElement('div');\n",
              "          docLink.innerHTML = docLinkHtml;\n",
              "          element.appendChild(docLink);\n",
              "        }\n",
              "      </script>\n",
              "    </div>\n",
              "  </div>\n",
              "  "
            ],
            "text/plain": [
              "       Mean of the integrated profile  ...  target_class\n",
              "0                          116.906250  ...           NaN\n",
              "1                           75.585938  ...           NaN\n",
              "2                          103.273438  ...           NaN\n",
              "3                          101.078125  ...           NaN\n",
              "4                          113.226562  ...           NaN\n",
              "...                               ...  ...           ...\n",
              "5365                       116.531250  ...           NaN\n",
              "5366                       114.976562  ...           NaN\n",
              "5367                       136.171875  ...           NaN\n",
              "5368                       106.500000  ...           NaN\n",
              "5369                       110.679688  ...           NaN\n",
              "\n",
              "[5370 rows x 9 columns]"
            ]
          },
          "metadata": {},
          "execution_count": 4
        }
      ]
    },
    {
      "cell_type": "markdown",
      "source": [
        "# **8. Exploratory data analysis** <a class=\"anchor\" id=\"8\"></a>\n",
        "\n",
        "\n",
        "\n",
        "\n",
        "Now, I will explore the data to gain insights about the data. "
      ],
      "metadata": {
        "id": "LndSwhk5266H"
      }
    },
    {
      "cell_type": "code",
      "source": [
        "# view dimensions of dataset\n",
        "\n",
        "\n",
        "\n",
        "data_test = pd.read_csv('/content/gdrive/My Drive/Data/pulsar_data_test.csv')\n",
        "data_train = pd.read_csv('/content/gdrive/My Drive/Data/pulsar_data_train.csv')\n",
        "\n",
        "print(data_test.shape)  \n",
        "print(data_train.shape) \n",
        "  "
      ],
      "metadata": {
        "trusted": true,
        "id": "D3gzNf_N266I",
        "colab": {
          "base_uri": "https://localhost:8080/"
        },
        "outputId": "4065d3d5-2122-4d57-b165-ec7ad0bfddb8"
      },
      "execution_count": 38,
      "outputs": [
        {
          "output_type": "stream",
          "name": "stdout",
          "text": [
            "(5370, 9)\n",
            "(12528, 9)\n"
          ]
        }
      ]
    },
    {
      "cell_type": "markdown",
      "source": [
        "We can see that there are 17898 instances and 9 variables in the data set."
      ],
      "metadata": {
        "id": "1jDujuCN266I"
      }
    },
    {
      "cell_type": "code",
      "source": [
        "# let's preview the dataset\n"
      ],
      "metadata": {
        "scrolled": true,
        "trusted": true,
        "id": "RvQM4XkP266I"
      },
      "execution_count": 39,
      "outputs": []
    },
    {
      "cell_type": "markdown",
      "source": [
        "We can see that there are 9 variables in the dataset. 8 are continuous variables and 1 is discrete variable. The discrete variable is `target_class` variable. It is also the target variable.\n",
        "\n",
        "\n",
        "Now, I will view the column names to check for leading and trailing spaces."
      ],
      "metadata": {
        "id": "QRMd4r_R266I"
      }
    },
    {
      "cell_type": "code",
      "source": [
        "# view the column names of the dataframe\n",
        "print(data_train.head(0))"
      ],
      "metadata": {
        "trusted": true,
        "id": "FJjfuEPd266I",
        "colab": {
          "base_uri": "https://localhost:8080/"
        },
        "outputId": "703ba962-2644-46c8-813b-6d0aaae74b10"
      },
      "execution_count": 40,
      "outputs": [
        {
          "output_type": "stream",
          "name": "stdout",
          "text": [
            "Empty DataFrame\n",
            "Columns: [ Mean of the integrated profile,  Standard deviation of the integrated profile,  Excess kurtosis of the integrated profile,  Skewness of the integrated profile,  Mean of the DM-SNR curve,  Standard deviation of the DM-SNR curve,  Excess kurtosis of the DM-SNR curve,  Skewness of the DM-SNR curve, target_class]\n",
            "Index: []\n"
          ]
        }
      ]
    },
    {
      "cell_type": "markdown",
      "source": [
        "We can see that there are leading spaces (spaces at the start of the string name) in the dataframe. So, I will remove these leading spaces."
      ],
      "metadata": {
        "id": "NwmiG6iz266J"
      }
    },
    {
      "cell_type": "code",
      "source": [
        "# remove leading spaces from column names\n",
        "\n",
        "data_train.columns = data_train.columns.str.strip()\n",
        "data_test.columns = data_test.columns.str.strip()"
      ],
      "metadata": {
        "trusted": true,
        "id": "lchWxCVB266J"
      },
      "execution_count": 41,
      "outputs": []
    },
    {
      "cell_type": "markdown",
      "source": [
        "I have removed the leading spaces from the column names. Let's again view the column names to confirm the same."
      ],
      "metadata": {
        "id": "o8u_I1Dt266J"
      }
    },
    {
      "cell_type": "code",
      "source": [
        "# view column names again\n",
        "\n",
        "print(data_train.head(0))"
      ],
      "metadata": {
        "trusted": true,
        "id": "RlXtmKkt266J",
        "colab": {
          "base_uri": "https://localhost:8080/"
        },
        "outputId": "0aba6c98-d5d5-416a-8040-1b8ef36a5ad0"
      },
      "execution_count": 42,
      "outputs": [
        {
          "output_type": "stream",
          "name": "stdout",
          "text": [
            "Empty DataFrame\n",
            "Columns: [Mean of the integrated profile, Standard deviation of the integrated profile, Excess kurtosis of the integrated profile, Skewness of the integrated profile, Mean of the DM-SNR curve, Standard deviation of the DM-SNR curve, Excess kurtosis of the DM-SNR curve, Skewness of the DM-SNR curve, target_class]\n",
            "Index: []\n"
          ]
        }
      ]
    },
    {
      "cell_type": "markdown",
      "source": [
        "We can see that the leading spaces are removed from the column name. But the column names are very long. So, I will make them short by renaming them."
      ],
      "metadata": {
        "id": "q26-u9Uo266J"
      }
    },
    {
      "cell_type": "code",
      "source": [
        "# rename column names\n",
        "\n",
        "data_train.columns = ['IP Mean', 'IP Sd', 'IP Kurtosis', 'IP Skewness','DM-SNR Mean', 'DM-SNR Sd', 'DM-SNR Kurtosis', 'DM-SNR Skewness', 'target_class']\n",
        "data_test.columns = ['IP Mean', 'IP Sd', 'IP Kurtosis', 'IP Skewness','DM-SNR Mean', 'DM-SNR Sd', 'DM-SNR Kurtosis', 'DM-SNR Skewness', 'target_class']"
      ],
      "metadata": {
        "trusted": true,
        "id": "b9h2Bn74266J"
      },
      "execution_count": 43,
      "outputs": []
    },
    {
      "cell_type": "code",
      "source": [
        "# view the renamed column names\n",
        "\n",
        "data_train.columns"
      ],
      "metadata": {
        "trusted": true,
        "id": "-2Pmu6ii266K",
        "colab": {
          "base_uri": "https://localhost:8080/"
        },
        "outputId": "7bce338e-0ff5-4454-8f4c-905a93f01a8b"
      },
      "execution_count": 44,
      "outputs": [
        {
          "output_type": "execute_result",
          "data": {
            "text/plain": [
              "Index(['IP Mean', 'IP Sd', 'IP Kurtosis', 'IP Skewness', 'DM-SNR Mean',\n",
              "       'DM-SNR Sd', 'DM-SNR Kurtosis', 'DM-SNR Skewness', 'target_class'],\n",
              "      dtype='object')"
            ]
          },
          "metadata": {},
          "execution_count": 44
        }
      ]
    },
    {
      "cell_type": "markdown",
      "source": [
        "We can see that the column names are shortened. IP stands for `integrated profile` and DM-SNR stands for `delta modulation and signal to noise ratio`. Now, it is much more easy to work with the columns."
      ],
      "metadata": {
        "id": "6Yg1fRlg266K"
      }
    },
    {
      "cell_type": "markdown",
      "source": [
        "Our target variable is the `target_class` column. So, I will check its distribution."
      ],
      "metadata": {
        "id": "7Ry3xcnC266K"
      }
    },
    {
      "cell_type": "code",
      "source": [
        "# check distribution of target_class column\n",
        "\n",
        "data_train.hist(column=\"target_class\")\n"
      ],
      "metadata": {
        "trusted": true,
        "id": "5mphGLWZ266K",
        "colab": {
          "base_uri": "https://localhost:8080/",
          "height": 316
        },
        "outputId": "c656bdd8-de05-4ff5-caf2-2675eb72243b"
      },
      "execution_count": 45,
      "outputs": [
        {
          "output_type": "execute_result",
          "data": {
            "text/plain": [
              "array([[<matplotlib.axes._subplots.AxesSubplot object at 0x7f4d540a7a50>]],\n",
              "      dtype=object)"
            ]
          },
          "metadata": {},
          "execution_count": 45
        },
        {
          "output_type": "display_data",
          "data": {
            "image/png": "[encoded data removed]",
            "text/plain": [
              "<Figure size 432x288 with 1 Axes>"
            ]
          },
          "metadata": {
            "needs_background": "light"
          }
        }
      ]
    },
    {
      "cell_type": "code",
      "source": [
        ""
      ],
      "metadata": {
        "id": "xYxAxxR8kgFr"
      },
      "execution_count": 45,
      "outputs": []
    },
    {
      "cell_type": "code",
      "source": [
        "# view the percentage distribution of target_class column\n",
        "\n",
        "c_zero=0\n",
        "c_one=1\n",
        "for ind in data_train.index:\n",
        "     if data_train['target_class'][ind] == 0.0:\n",
        "        c_zero += 1\n",
        "     if data_train['target_class'][ind] == 1.0:\n",
        "       c_one +=1\n",
        "\n",
        "print(\"0 = \",(c_zero/(c_zero + c_one)*100))\n",
        "print(\"1 = \",(c_one/(c_zero + c_one)*100))"
      ],
      "metadata": {
        "trusted": true,
        "id": "dyGPq93Q266K",
        "colab": {
          "base_uri": "https://localhost:8080/"
        },
        "outputId": "5c25c0a6-182f-43c0-b4db-2c49e58dd2c7"
      },
      "execution_count": 46,
      "outputs": [
        {
          "output_type": "stream",
          "name": "stdout",
          "text": [
            "0 =  90.7893686646979\n",
            "1 =  9.2106313353021\n"
          ]
        }
      ]
    },
    {
      "cell_type": "markdown",
      "source": [
        "We can see that percentage of observations of the class label `0` and `1` is 90.84% and 9.16%. So, this is a class imbalanced problem. I will deal with that in later section."
      ],
      "metadata": {
        "id": "vjpUdVyq266K"
      }
    },
    {
      "cell_type": "code",
      "source": [
        "# view summary of dataset\n",
        "\n"
      ],
      "metadata": {
        "trusted": true,
        "id": "YB6Cghpo266L"
      },
      "execution_count": 47,
      "outputs": []
    },
    {
      "cell_type": "markdown",
      "source": [
        "We can see that there are no missing values in the dataset and all the variables are numerical variables."
      ],
      "metadata": {
        "id": "ZLSes-ge266L"
      }
    },
    {
      "cell_type": "markdown",
      "source": [
        "### Explore missing values in variables"
      ],
      "metadata": {
        "id": "yspvBQGh266L"
      }
    },
    {
      "cell_type": "code",
      "source": [
        "# check for missing values in variables\n"
      ],
      "metadata": {
        "trusted": true,
        "id": "BlJNhySy266L"
      },
      "execution_count": 48,
      "outputs": []
    },
    {
      "cell_type": "markdown",
      "source": [
        "We can see that there are no missing values in the dataset."
      ],
      "metadata": {
        "id": "EL_7bd54266L"
      }
    },
    {
      "cell_type": "markdown",
      "source": [
        "### Summary of numerical variables\n",
        "\n",
        "\n",
        "- There are 9 numerical variables in the dataset.\n",
        "\n",
        "\n",
        "- 8 are continuous variables and 1 is discrete variable. \n",
        "\n",
        "\n",
        "- The discrete variable is `target_class` variable. It is also the target variable.\n",
        "\n",
        "\n",
        "- There are no missing values in the dataset."
      ],
      "metadata": {
        "id": "OlbBziOa266L"
      }
    },
    {
      "cell_type": "markdown",
      "source": [
        "### Outliers in numerical variables"
      ],
      "metadata": {
        "id": "soepeGuU266L"
      }
    },
    {
      "cell_type": "code",
      "source": [
        "# view summary statistics in numerical variables\n",
        "\n",
        "round(data_train.describe(),2)"
      ],
      "metadata": {
        "trusted": true,
        "id": "2Pol93Pf266L",
        "colab": {
          "base_uri": "https://localhost:8080/",
          "height": 300
        },
        "outputId": "a3b0d090-5a71-4e81-c498-146354a1b351"
      },
      "execution_count": 49,
      "outputs": [
        {
          "output_type": "execute_result",
          "data": {
            "text/html": [
              "\n",
              "  <div id=\"df-dde68a67-d922-4df5-b0ec-ac46f0265869\">\n",
              "    <div class=\"colab-df-container\">\n",
              "      <div>\n",
              "<style scoped>\n",
              "    .dataframe tbody tr th:only-of-type {\n",
              "        vertical-align: middle;\n",
              "    }\n",
              "\n",
              "    .dataframe tbody tr th {\n",
              "        vertical-align: top;\n",
              "    }\n",
              "\n",
              "    .dataframe thead th {\n",
              "        text-align: right;\n",
              "    }\n",
              "</style>\n",
              "<table border=\"1\" class=\"dataframe\">\n",
              "  <thead>\n",
              "    <tr style=\"text-align: right;\">\n",
              "      <th></th>\n",
              "      <th>IP Mean</th>\n",
              "      <th>IP Sd</th>\n",
              "      <th>IP Kurtosis</th>\n",
              "      <th>IP Skewness</th>\n",
              "      <th>DM-SNR Mean</th>\n",
              "      <th>DM-SNR Sd</th>\n",
              "      <th>DM-SNR Kurtosis</th>\n",
              "      <th>DM-SNR Skewness</th>\n",
              "      <th>target_class</th>\n",
              "    </tr>\n",
              "  </thead>\n",
              "  <tbody>\n",
              "    <tr>\n",
              "      <th>count</th>\n",
              "      <td>12528.00</td>\n",
              "      <td>12528.00</td>\n",
              "      <td>10793.00</td>\n",
              "      <td>12528.00</td>\n",
              "      <td>12528.00</td>\n",
              "      <td>11350.00</td>\n",
              "      <td>12528.00</td>\n",
              "      <td>11903.00</td>\n",
              "      <td>12528.00</td>\n",
              "    </tr>\n",
              "    <tr>\n",
              "      <th>mean</th>\n",
              "      <td>111.04</td>\n",
              "      <td>46.52</td>\n",
              "      <td>0.48</td>\n",
              "      <td>1.78</td>\n",
              "      <td>12.67</td>\n",
              "      <td>26.35</td>\n",
              "      <td>8.33</td>\n",
              "      <td>105.53</td>\n",
              "      <td>0.09</td>\n",
              "    </tr>\n",
              "    <tr>\n",
              "      <th>std</th>\n",
              "      <td>25.67</td>\n",
              "      <td>6.80</td>\n",
              "      <td>1.06</td>\n",
              "      <td>6.21</td>\n",
              "      <td>29.61</td>\n",
              "      <td>19.61</td>\n",
              "      <td>4.54</td>\n",
              "      <td>107.40</td>\n",
              "      <td>0.29</td>\n",
              "    </tr>\n",
              "    <tr>\n",
              "      <th>min</th>\n",
              "      <td>5.81</td>\n",
              "      <td>24.77</td>\n",
              "      <td>-1.74</td>\n",
              "      <td>-1.79</td>\n",
              "      <td>0.21</td>\n",
              "      <td>7.37</td>\n",
              "      <td>-3.14</td>\n",
              "      <td>-1.98</td>\n",
              "      <td>0.00</td>\n",
              "    </tr>\n",
              "    <tr>\n",
              "      <th>25%</th>\n",
              "      <td>100.87</td>\n",
              "      <td>42.36</td>\n",
              "      <td>0.02</td>\n",
              "      <td>-0.19</td>\n",
              "      <td>1.91</td>\n",
              "      <td>14.40</td>\n",
              "      <td>5.80</td>\n",
              "      <td>35.20</td>\n",
              "      <td>0.00</td>\n",
              "    </tr>\n",
              "    <tr>\n",
              "      <th>50%</th>\n",
              "      <td>115.18</td>\n",
              "      <td>46.93</td>\n",
              "      <td>0.22</td>\n",
              "      <td>0.20</td>\n",
              "      <td>2.79</td>\n",
              "      <td>18.41</td>\n",
              "      <td>8.45</td>\n",
              "      <td>83.13</td>\n",
              "      <td>0.00</td>\n",
              "    </tr>\n",
              "    <tr>\n",
              "      <th>75%</th>\n",
              "      <td>127.11</td>\n",
              "      <td>50.98</td>\n",
              "      <td>0.47</td>\n",
              "      <td>0.93</td>\n",
              "      <td>5.41</td>\n",
              "      <td>28.34</td>\n",
              "      <td>10.73</td>\n",
              "      <td>140.00</td>\n",
              "      <td>0.00</td>\n",
              "    </tr>\n",
              "    <tr>\n",
              "      <th>max</th>\n",
              "      <td>189.73</td>\n",
              "      <td>91.81</td>\n",
              "      <td>8.07</td>\n",
              "      <td>68.10</td>\n",
              "      <td>222.42</td>\n",
              "      <td>110.64</td>\n",
              "      <td>34.54</td>\n",
              "      <td>1191.00</td>\n",
              "      <td>1.00</td>\n",
              "    </tr>\n",
              "  </tbody>\n",
              "</table>\n",
              "</div>\n",
              "      <button class=\"colab-df-convert\" onclick=\"convertToInteractive('df-dde68a67-d922-4df5-b0ec-ac46f0265869')\"\n",
              "              title=\"Convert this dataframe to an interactive table.\"\n",
              "              style=\"display:none;\">\n",
              "        \n",
              "  <svg xmlns=\"http://www.w3.org/2000/svg\" height=\"24px\"viewBox=\"0 0 24 24\"\n",
              "       width=\"24px\">\n",
              "    <path d=\"M0 0h24v24H0V0z\" fill=\"none\"/>\n",
              "    <path d=\"M18.56 5.44l.94 2.06.94-2.06 2.06-.94-2.06-.94-.94-2.06-.94 2.06-2.06.94zm-11 1L8.5 8.5l.94-2.06 2.06-.94-2.06-.94L8.5 2.5l-.94 2.06-2.06.94zm10 10l.94 2.06.94-2.06 2.06-.94-2.06-.94-.94-2.06-.94 2.06-2.06.94z\"/><path d=\"M17.41 7.96l-1.37-1.37c-.4-.4-.92-.59-1.43-.59-.52 0-1.04.2-1.43.59L10.3 9.45l-7.72 7.72c-.78.78-.78 2.05 0 2.83L4 21.41c.39.39.9.59 1.41.59.51 0 1.02-.2 1.41-.59l7.78-7.78 2.81-2.81c.8-.78.8-2.07 0-2.86zM5.41 20L4 18.59l7.72-7.72 1.47 1.35L5.41 20z\"/>\n",
              "  </svg>\n",
              "      </button>\n",
              "      \n",
              "  <style>\n",
              "    .colab-df-container {\n",
              "      display:flex;\n",
              "      flex-wrap:wrap;\n",
              "      gap: 12px;\n",
              "    }\n",
              "\n",
              "    .colab-df-convert {\n",
              "      background-color: #E8F0FE;\n",
              "      border: none;\n",
              "      border-radius: 50%;\n",
              "      cursor: pointer;\n",
              "      display: none;\n",
              "      fill: #1967D2;\n",
              "      height: 32px;\n",
              "      padding: 0 0 0 0;\n",
              "      width: 32px;\n",
              "    }\n",
              "\n",
              "    .colab-df-convert:hover {\n",
              "      background-color: #E2EBFA;\n",
              "      box-shadow: 0px 1px 2px rgba(60, 64, 67, 0.3), 0px 1px 3px 1px rgba(60, 64, 67, 0.15);\n",
              "      fill: #174EA6;\n",
              "    }\n",
              "\n",
              "    [theme=dark] .colab-df-convert {\n",
              "      background-color: #3B4455;\n",
              "      fill: #D2E3FC;\n",
              "    }\n",
              "\n",
              "    [theme=dark] .colab-df-convert:hover {\n",
              "      background-color: #434B5C;\n",
              "      box-shadow: 0px 1px 3px 1px rgba(0, 0, 0, 0.15);\n",
              "      filter: drop-shadow(0px 1px 2px rgba(0, 0, 0, 0.3));\n",
              "      fill: #FFFFFF;\n",
              "    }\n",
              "  </style>\n",
              "\n",
              "      <script>\n",
              "        const buttonEl =\n",
              "          document.querySelector('#df-dde68a67-d922-4df5-b0ec-ac46f0265869 button.colab-df-convert');\n",
              "        buttonEl.style.display =\n",
              "          google.colab.kernel.accessAllowed ? 'block' : 'none';\n",
              "\n",
              "        async function convertToInteractive(key) {\n",
              "          const element = document.querySelector('#df-dde68a67-d922-4df5-b0ec-ac46f0265869');\n",
              "          const dataTable =\n",
              "            await google.colab.kernel.invokeFunction('convertToInteractive',\n",
              "                                                     [key], {});\n",
              "          if (!dataTable) return;\n",
              "\n",
              "          const docLinkHtml = 'Like what you see? Visit the ' +\n",
              "            '<a target=\"_blank\" href=https://colab.research.google.com/notebooks/data_table.ipynb>data table notebook</a>'\n",
              "            + ' to learn more about interactive tables.';\n",
              "          element.innerHTML = '';\n",
              "          dataTable['output_type'] = 'display_data';\n",
              "          await google.colab.output.renderOutput(dataTable, element);\n",
              "          const docLink = document.createElement('div');\n",
              "          docLink.innerHTML = docLinkHtml;\n",
              "          element.appendChild(docLink);\n",
              "        }\n",
              "      </script>\n",
              "    </div>\n",
              "  </div>\n",
              "  "
            ],
            "text/plain": [
              "        IP Mean     IP Sd  ...  DM-SNR Skewness  target_class\n",
              "count  12528.00  12528.00  ...         11903.00      12528.00\n",
              "mean     111.04     46.52  ...           105.53          0.09\n",
              "std       25.67      6.80  ...           107.40          0.29\n",
              "min        5.81     24.77  ...            -1.98          0.00\n",
              "25%      100.87     42.36  ...            35.20          0.00\n",
              "50%      115.18     46.93  ...            83.13          0.00\n",
              "75%      127.11     50.98  ...           140.00          0.00\n",
              "max      189.73     91.81  ...          1191.00          1.00\n",
              "\n",
              "[8 rows x 9 columns]"
            ]
          },
          "metadata": {},
          "execution_count": 49
        }
      ]
    },
    {
      "cell_type": "markdown",
      "source": [
        "On closer inspection, we can suspect that all the continuous variables may contain outliers.\n",
        "\n",
        "\n",
        "I will draw boxplots to visualise outliers in the above variables. "
      ],
      "metadata": {
        "id": "kncM-CZm266M"
      }
    },
    {
      "cell_type": "markdown",
      "source": [
        ""
      ],
      "metadata": {
        "id": "DsTu4xvkSfNz"
      }
    },
    {
      "cell_type": "markdown",
      "source": [
        "We can see in below graph tha IP Kurtosis has most of it's data as mean and DM-SNR Sd and DM_SNR Skewness has bit diverse data, so I am going to replace all NaN in  IP Kurtosis as it's mean and drop the other rows containing NaN"
      ],
      "metadata": {
        "id": "Fxra-6wYSp98"
      }
    },
    {
      "cell_type": "code",
      "source": [
        "df_temp = data_train\n",
        "df_temp[\"IP Kurtosis\"].fillna(value=df_temp[\"IP Kurtosis\"].mean(),inplace=True)\n",
        "\n",
        "df=df_temp.dropna()\n",
        "round(df.describe(),2)"
      ],
      "metadata": {
        "colab": {
          "base_uri": "https://localhost:8080/",
          "height": 300
        },
        "id": "Fdhg9t8OobRu",
        "outputId": "a44729cf-bdb1-4b00-f8cf-b8a4bb7f7dcc"
      },
      "execution_count": 58,
      "outputs": [
        {
          "output_type": "execute_result",
          "data": {
            "text/html": [
              "\n",
              "  <div id=\"df-55066678-e0ba-4a0c-9368-e4fd44be2119\">\n",
              "    <div class=\"colab-df-container\">\n",
              "      <div>\n",
              "<style scoped>\n",
              "    .dataframe tbody tr th:only-of-type {\n",
              "        vertical-align: middle;\n",
              "    }\n",
              "\n",
              "    .dataframe tbody tr th {\n",
              "        vertical-align: top;\n",
              "    }\n",
              "\n",
              "    .dataframe thead th {\n",
              "        text-align: right;\n",
              "    }\n",
              "</style>\n",
              "<table border=\"1\" class=\"dataframe\">\n",
              "  <thead>\n",
              "    <tr style=\"text-align: right;\">\n",
              "      <th></th>\n",
              "      <th>IP Mean</th>\n",
              "      <th>IP Sd</th>\n",
              "      <th>IP Kurtosis</th>\n",
              "      <th>IP Skewness</th>\n",
              "      <th>DM-SNR Mean</th>\n",
              "      <th>DM-SNR Sd</th>\n",
              "      <th>DM-SNR Kurtosis</th>\n",
              "      <th>DM-SNR Skewness</th>\n",
              "      <th>target_class</th>\n",
              "    </tr>\n",
              "  </thead>\n",
              "  <tbody>\n",
              "    <tr>\n",
              "      <th>count</th>\n",
              "      <td>10782.00</td>\n",
              "      <td>10782.00</td>\n",
              "      <td>10782.00</td>\n",
              "      <td>10782.00</td>\n",
              "      <td>10782.00</td>\n",
              "      <td>10782.00</td>\n",
              "      <td>10782.00</td>\n",
              "      <td>10782.00</td>\n",
              "      <td>10782.00</td>\n",
              "    </tr>\n",
              "    <tr>\n",
              "      <th>mean</th>\n",
              "      <td>111.03</td>\n",
              "      <td>46.52</td>\n",
              "      <td>0.48</td>\n",
              "      <td>1.80</td>\n",
              "      <td>12.80</td>\n",
              "      <td>26.36</td>\n",
              "      <td>8.31</td>\n",
              "      <td>105.30</td>\n",
              "      <td>0.09</td>\n",
              "    </tr>\n",
              "    <tr>\n",
              "      <th>std</th>\n",
              "      <td>25.79</td>\n",
              "      <td>6.82</td>\n",
              "      <td>0.99</td>\n",
              "      <td>6.30</td>\n",
              "      <td>29.85</td>\n",
              "      <td>19.56</td>\n",
              "      <td>4.54</td>\n",
              "      <td>107.29</td>\n",
              "      <td>0.29</td>\n",
              "    </tr>\n",
              "    <tr>\n",
              "      <th>min</th>\n",
              "      <td>6.19</td>\n",
              "      <td>24.77</td>\n",
              "      <td>-1.74</td>\n",
              "      <td>-1.79</td>\n",
              "      <td>0.21</td>\n",
              "      <td>7.37</td>\n",
              "      <td>-3.14</td>\n",
              "      <td>-1.98</td>\n",
              "      <td>0.00</td>\n",
              "    </tr>\n",
              "    <tr>\n",
              "      <th>25%</th>\n",
              "      <td>100.80</td>\n",
              "      <td>42.34</td>\n",
              "      <td>0.06</td>\n",
              "      <td>-0.19</td>\n",
              "      <td>1.92</td>\n",
              "      <td>14.42</td>\n",
              "      <td>5.79</td>\n",
              "      <td>34.95</td>\n",
              "      <td>0.00</td>\n",
              "    </tr>\n",
              "    <tr>\n",
              "      <th>50%</th>\n",
              "      <td>115.18</td>\n",
              "      <td>46.91</td>\n",
              "      <td>0.29</td>\n",
              "      <td>0.21</td>\n",
              "      <td>2.80</td>\n",
              "      <td>18.45</td>\n",
              "      <td>8.43</td>\n",
              "      <td>83.05</td>\n",
              "      <td>0.00</td>\n",
              "    </tr>\n",
              "    <tr>\n",
              "      <th>75%</th>\n",
              "      <td>127.27</td>\n",
              "      <td>51.02</td>\n",
              "      <td>0.48</td>\n",
              "      <td>0.94</td>\n",
              "      <td>5.46</td>\n",
              "      <td>28.35</td>\n",
              "      <td>10.70</td>\n",
              "      <td>139.31</td>\n",
              "      <td>0.00</td>\n",
              "    </tr>\n",
              "    <tr>\n",
              "      <th>max</th>\n",
              "      <td>189.73</td>\n",
              "      <td>91.81</td>\n",
              "      <td>8.07</td>\n",
              "      <td>68.10</td>\n",
              "      <td>222.42</td>\n",
              "      <td>110.64</td>\n",
              "      <td>34.54</td>\n",
              "      <td>1191.00</td>\n",
              "      <td>1.00</td>\n",
              "    </tr>\n",
              "  </tbody>\n",
              "</table>\n",
              "</div>\n",
              "      <button class=\"colab-df-convert\" onclick=\"convertToInteractive('df-55066678-e0ba-4a0c-9368-e4fd44be2119')\"\n",
              "              title=\"Convert this dataframe to an interactive table.\"\n",
              "              style=\"display:none;\">\n",
              "        \n",
              "  <svg xmlns=\"http://www.w3.org/2000/svg\" height=\"24px\"viewBox=\"0 0 24 24\"\n",
              "       width=\"24px\">\n",
              "    <path d=\"M0 0h24v24H0V0z\" fill=\"none\"/>\n",
              "    <path d=\"M18.56 5.44l.94 2.06.94-2.06 2.06-.94-2.06-.94-.94-2.06-.94 2.06-2.06.94zm-11 1L8.5 8.5l.94-2.06 2.06-.94-2.06-.94L8.5 2.5l-.94 2.06-2.06.94zm10 10l.94 2.06.94-2.06 2.06-.94-2.06-.94-.94-2.06-.94 2.06-2.06.94z\"/><path d=\"M17.41 7.96l-1.37-1.37c-.4-.4-.92-.59-1.43-.59-.52 0-1.04.2-1.43.59L10.3 9.45l-7.72 7.72c-.78.78-.78 2.05 0 2.83L4 21.41c.39.39.9.59 1.41.59.51 0 1.02-.2 1.41-.59l7.78-7.78 2.81-2.81c.8-.78.8-2.07 0-2.86zM5.41 20L4 18.59l7.72-7.72 1.47 1.35L5.41 20z\"/>\n",
              "  </svg>\n",
              "      </button>\n",
              "      \n",
              "  <style>\n",
              "    .colab-df-container {\n",
              "      display:flex;\n",
              "      flex-wrap:wrap;\n",
              "      gap: 12px;\n",
              "    }\n",
              "\n",
              "    .colab-df-convert {\n",
              "      background-color: #E8F0FE;\n",
              "      border: none;\n",
              "      border-radius: 50%;\n",
              "      cursor: pointer;\n",
              "      display: none;\n",
              "      fill: #1967D2;\n",
              "      height: 32px;\n",
              "      padding: 0 0 0 0;\n",
              "      width: 32px;\n",
              "    }\n",
              "\n",
              "    .colab-df-convert:hover {\n",
              "      background-color: #E2EBFA;\n",
              "      box-shadow: 0px 1px 2px rgba(60, 64, 67, 0.3), 0px 1px 3px 1px rgba(60, 64, 67, 0.15);\n",
              "      fill: #174EA6;\n",
              "    }\n",
              "\n",
              "    [theme=dark] .colab-df-convert {\n",
              "      background-color: #3B4455;\n",
              "      fill: #D2E3FC;\n",
              "    }\n",
              "\n",
              "    [theme=dark] .colab-df-convert:hover {\n",
              "      background-color: #434B5C;\n",
              "      box-shadow: 0px 1px 3px 1px rgba(0, 0, 0, 0.15);\n",
              "      filter: drop-shadow(0px 1px 2px rgba(0, 0, 0, 0.3));\n",
              "      fill: #FFFFFF;\n",
              "    }\n",
              "  </style>\n",
              "\n",
              "      <script>\n",
              "        const buttonEl =\n",
              "          document.querySelector('#df-55066678-e0ba-4a0c-9368-e4fd44be2119 button.colab-df-convert');\n",
              "        buttonEl.style.display =\n",
              "          google.colab.kernel.accessAllowed ? 'block' : 'none';\n",
              "\n",
              "        async function convertToInteractive(key) {\n",
              "          const element = document.querySelector('#df-55066678-e0ba-4a0c-9368-e4fd44be2119');\n",
              "          const dataTable =\n",
              "            await google.colab.kernel.invokeFunction('convertToInteractive',\n",
              "                                                     [key], {});\n",
              "          if (!dataTable) return;\n",
              "\n",
              "          const docLinkHtml = 'Like what you see? Visit the ' +\n",
              "            '<a target=\"_blank\" href=https://colab.research.google.com/notebooks/data_table.ipynb>data table notebook</a>'\n",
              "            + ' to learn more about interactive tables.';\n",
              "          element.innerHTML = '';\n",
              "          dataTable['output_type'] = 'display_data';\n",
              "          await google.colab.output.renderOutput(dataTable, element);\n",
              "          const docLink = document.createElement('div');\n",
              "          docLink.innerHTML = docLinkHtml;\n",
              "          element.appendChild(docLink);\n",
              "        }\n",
              "      </script>\n",
              "    </div>\n",
              "  </div>\n",
              "  "
            ],
            "text/plain": [
              "        IP Mean     IP Sd  ...  DM-SNR Skewness  target_class\n",
              "count  10782.00  10782.00  ...         10782.00      10782.00\n",
              "mean     111.03     46.52  ...           105.30          0.09\n",
              "std       25.79      6.82  ...           107.29          0.29\n",
              "min        6.19     24.77  ...            -1.98          0.00\n",
              "25%      100.80     42.34  ...            34.95          0.00\n",
              "50%      115.18     46.91  ...            83.05          0.00\n",
              "75%      127.27     51.02  ...           139.31          0.00\n",
              "max      189.73     91.81  ...          1191.00          1.00\n",
              "\n",
              "[8 rows x 9 columns]"
            ]
          },
          "metadata": {},
          "execution_count": 58
        }
      ]
    },
    {
      "cell_type": "code",
      "source": [
        "# draw boxplots to visualize outliers\n",
        "\n",
        "plt.figure(figsize=(24,20))\n",
        "\n",
        "\n",
        "plt.subplot(4, 2, 1)\n",
        "fig = data_train.boxplot(column='IP Mean')\n",
        "fig.set_title('')\n",
        "fig.set_ylabel('IP Mean')\n",
        "\n",
        "\n",
        "plt.subplot(4, 2, 2)\n",
        "fig = data_train.boxplot(column='IP Sd')\n",
        "fig.set_title('')\n",
        "fig.set_ylabel('IP Sd')\n",
        "\n",
        "\n",
        "plt.subplot(4, 2, 3)\n",
        "fig = data_train.boxplot(column='IP Kurtosis')\n",
        "fig.set_title('')\n",
        "fig.set_ylabel('IP Kurtosis')\n",
        "\n",
        "\n",
        "plt.subplot(4, 2, 4)\n",
        "fig = data_train.boxplot(column='IP Skewness')\n",
        "fig.set_title('')\n",
        "fig.set_ylabel('IP Skewness')\n",
        "\n",
        "\n",
        "plt.subplot(4, 2, 5)\n",
        "fig = data_train.boxplot(column='DM-SNR Mean')\n",
        "fig.set_title('')\n",
        "fig.set_ylabel('DM-SNR Mean')\n",
        "\n",
        "\n",
        "plt.subplot(4, 2, 6)\n",
        "fig = data_train.boxplot(column='DM-SNR Sd')\n",
        "fig.set_title('')\n",
        "fig.set_ylabel('DM-SNR Sd')\n",
        "\n",
        "\n",
        "plt.subplot(4, 2, 7)\n",
        "fig = data_train.boxplot(column='DM-SNR Kurtosis')\n",
        "fig.set_title('')\n",
        "fig.set_ylabel('DM-SNR Kurtosis')\n",
        "\n",
        "\n",
        "plt.subplot(4, 2, 8)\n",
        "fig = data_train.boxplot(column='DM-SNR Skewness')\n",
        "fig.set_title('')\n",
        "fig.set_ylabel('DM-SNR Skewness')"
      ],
      "metadata": {
        "trusted": true,
        "id": "HZzlz5ai266M",
        "colab": {
          "base_uri": "https://localhost:8080/",
          "height": 1000
        },
        "outputId": "d24fa339-245b-45f5-e1d7-e6a8d5d904a8"
      },
      "execution_count": 59,
      "outputs": [
        {
          "output_type": "execute_result",
          "data": {
            "text/plain": [
              "Text(0, 0.5, 'DM-SNR Skewness')"
            ]
          },
          "metadata": {},
          "execution_count": 59
        },
        {
          "output_type": "display_data",
          "data": {
            "image/png": "[encoded data removed]",
            "text/plain": [
              "<Figure size 1728x1440 with 8 Axes>"
            ]
          },
          "metadata": {
            "needs_background": "light"
          }
        }
      ]
    },
    {
      "cell_type": "markdown",
      "source": [
        "The above boxplots confirm that there are lot of outliers in these variables."
      ],
      "metadata": {
        "id": "GkC_pIVA266M"
      }
    },
    {
      "cell_type": "markdown",
      "source": [
        "### Handle outliers with SVMs\n",
        "\n",
        "\n",
        "There are 2 variants of SVMs. They are `hard-margin variant of SVM` and `soft-margin variant of SVM`.\n",
        "\n",
        "\n",
        "The `hard-margin variant of SVM` does not deal with outliers. In this case, we want to find the hyperplane with maximum margin such that every training point is correctly classified with margin at least 1. This technique does not handle outliers well.\n",
        "\n",
        "\n",
        "Another version of SVM is called `soft-margin variant of SVM`. In this case, we can have a few points incorrectly classified or \n",
        "classified with a margin less than 1. But for every such point, we have to pay a penalty in the form of `C` parameter, which controls the outliers. `Low C` implies we are allowing more outliers and `high C` implies less outliers.\n",
        "\n",
        "\n",
        "The message is that since the dataset contains outliers, so the value of C should be high while training the model."
      ],
      "metadata": {
        "id": "THOfznwC266M"
      }
    },
    {
      "cell_type": "markdown",
      "source": [
        "### Check the distribution of variables\n",
        "\n",
        "\n",
        "Now, I will plot the histograms to check distributions to find out if they are normal or skewed. "
      ],
      "metadata": {
        "id": "j0Y2YzD3266M"
      }
    },
    {
      "cell_type": "code",
      "source": [
        "# plot histogram to check distribution\n",
        "\n",
        "\n",
        "plt.figure(figsize=(24,20))\n",
        "\n",
        "\n",
        "plt.subplot(4, 2, 1)\n",
        "fig = data_train['IP Mean'].hist(bins=20)\n",
        "fig.set_xlabel('IP Mean')\n",
        "fig.set_ylabel('Number of pulsar stars')\n",
        "\n",
        "\n",
        "plt.subplot(4, 2, 2)\n",
        "fig = data_train['IP Sd'].hist(bins=20)\n",
        "fig.set_xlabel('IP Sd')\n",
        "fig.set_ylabel('Number of pulsar stars')\n",
        "\n",
        "\n",
        "plt.subplot(4, 2, 3)\n",
        "fig = data_train['IP Kurtosis'].hist(bins=20)\n",
        "fig.set_xlabel('IP Kurtosis')\n",
        "fig.set_ylabel('Number of pulsar stars')\n",
        "\n",
        "\n",
        "\n",
        "plt.subplot(4, 2, 4)\n",
        "fig = data_train['IP Skewness'].hist(bins=20)\n",
        "fig.set_xlabel('IP Skewness')\n",
        "fig.set_ylabel('Number of pulsar stars')\n",
        "\n",
        "\n",
        "\n",
        "plt.subplot(4, 2, 5)\n",
        "fig = data_train['DM-SNR Mean'].hist(bins=20)\n",
        "fig.set_xlabel('DM-SNR Mean')\n",
        "fig.set_ylabel('Number of pulsar stars')\n",
        "\n",
        "\n",
        "\n",
        "plt.subplot(4, 2, 6)\n",
        "fig = data_train['DM-SNR Sd'].hist(bins=20)\n",
        "fig.set_xlabel('DM-SNR Sd')\n",
        "fig.set_ylabel('Number of pulsar stars')\n",
        "\n",
        "\n",
        "\n",
        "plt.subplot(4, 2, 7)\n",
        "fig = data_train['DM-SNR Kurtosis'].hist(bins=20)\n",
        "fig.set_xlabel('DM-SNR Kurtosis')\n",
        "fig.set_ylabel('Number of pulsar stars')\n",
        "\n",
        "\n",
        "plt.subplot(4, 2, 8)\n",
        "fig = data_train['DM-SNR Skewness'].hist(bins=20)\n",
        "fig.set_xlabel('DM-SNR Skewness')\n",
        "fig.set_ylabel('Number of pulsar stars')\n"
      ],
      "metadata": {
        "trusted": true,
        "id": "7ZJ-AsaR266M",
        "colab": {
          "base_uri": "https://localhost:8080/",
          "height": 1000
        },
        "outputId": "240b9240-40a1-4a35-e7ee-00414fc49ce8"
      },
      "execution_count": 60,
      "outputs": [
        {
          "output_type": "execute_result",
          "data": {
            "text/plain": [
              "Text(0, 0.5, 'Number of pulsar stars')"
            ]
          },
          "metadata": {},
          "execution_count": 60
        },
        {
          "output_type": "display_data",
          "data": {
            "image/png": "[encoded data removed]",
            "text/plain": [
              "<Figure size 1728x1440 with 8 Axes>"
            ]
          },
          "metadata": {
            "needs_background": "light"
          }
        }
      ]
    },
    {
      "cell_type": "markdown",
      "source": [
        "We can see that all the 8 continuous variables are skewed. "
      ],
      "metadata": {
        "id": "03ADc0HO266N"
      }
    },
    {
      "cell_type": "markdown",
      "source": [
        "# **9. Declare feature vector and target variable** <a class=\"anchor\" id=\"9\"></a>\n",
        "\n"
      ],
      "metadata": {
        "id": "hNup477y266N"
      }
    },
    {
      "cell_type": "code",
      "source": [
        "# feature_train = data_train[['IP Mean', 'IP Sd', 'IP Kurtosis', 'IP Skewness','DM-SNR Mean', 'DM-SNR Sd', 'DM-SNR Kurtosis', 'DM-SNR Skewness']]\n",
        "# feature_test = data_test[['IP Mean', 'IP Sd', 'IP Kurtosis', 'IP Skewness','DM-SNR Mean', 'DM-SNR Sd', 'DM-SNR Kurtosis', 'DM-SNR Skewness']]\n",
        "# target_test = data_test[['target_class']]\n",
        "# target_train = data_train[['target_class']]\n",
        "X = df[['IP Mean', 'IP Sd', 'IP Kurtosis', 'IP Skewness','DM-SNR Mean', 'DM-SNR Sd', 'DM-SNR Kurtosis', 'DM-SNR Skewness']]\n",
        "y = df[['target_class']]"
      ],
      "metadata": {
        "trusted": true,
        "id": "MGpzWFar266N"
      },
      "execution_count": 61,
      "outputs": []
    },
    {
      "cell_type": "markdown",
      "source": [
        "# **10. Split data into separate training and test set** <a class=\"anchor\" id=\"10\"></a>\n",
        "\n"
      ],
      "metadata": {
        "id": "lEeAm0oh266N"
      }
    },
    {
      "cell_type": "code",
      "source": [
        "# split X and y into training and testing sets\n",
        "\n",
        "# from sklearn.model_selection import train_test_split\n",
        "\n",
        "X_train, X_test, y_train, y_test =  train_test_split(X,y,test_size=0.2)\n",
        "\n"
      ],
      "metadata": {
        "trusted": true,
        "id": "glBmupCi266N"
      },
      "execution_count": 62,
      "outputs": []
    },
    {
      "cell_type": "code",
      "source": [
        "\n",
        "# check the shape of X_train and X_test\n",
        "\n",
        "X_train.shape, X_test.shape"
      ],
      "metadata": {
        "trusted": true,
        "id": "JAYMd5uR266O",
        "colab": {
          "base_uri": "https://localhost:8080/"
        },
        "outputId": "403d1fff-9b8c-4c23-a6a1-88a395532411"
      },
      "execution_count": 63,
      "outputs": [
        {
          "output_type": "execute_result",
          "data": {
            "text/plain": [
              "((8625, 8), (2157, 8))"
            ]
          },
          "metadata": {},
          "execution_count": 63
        }
      ]
    },
    {
      "cell_type": "markdown",
      "source": [
        "# **11. Feature Scaling** <a class=\"anchor\" id=\"11\"></a>\n",
        "\n"
      ],
      "metadata": {
        "id": "vydWJGx4266O"
      }
    },
    {
      "cell_type": "code",
      "source": [
        "cols = X_train.columns"
      ],
      "metadata": {
        "trusted": true,
        "id": "IfW84ySS266O"
      },
      "execution_count": 64,
      "outputs": []
    },
    {
      "cell_type": "code",
      "source": [
        "from sklearn.preprocessing import StandardScaler\n",
        "\n",
        "scaler = StandardScaler()\n",
        "\n",
        "X_train = scaler.fit_transform(X_train)\n",
        "\n",
        "X_test = scaler.transform(X_test)\n"
      ],
      "metadata": {
        "trusted": true,
        "id": "lZRNHAto266P"
      },
      "execution_count": 65,
      "outputs": []
    },
    {
      "cell_type": "code",
      "source": [
        "X_train = pd.DataFrame(X_train, columns=[cols])"
      ],
      "metadata": {
        "trusted": true,
        "id": "w3Gm_fJL266P"
      },
      "execution_count": 66,
      "outputs": []
    },
    {
      "cell_type": "code",
      "source": [
        "X_test = pd.DataFrame(X_test, columns=[cols])"
      ],
      "metadata": {
        "trusted": true,
        "id": "x7x2BPTT266P"
      },
      "execution_count": 67,
      "outputs": []
    },
    {
      "cell_type": "code",
      "source": [
        "X_train.describe()"
      ],
      "metadata": {
        "trusted": true,
        "id": "981b4Ghh266P",
        "colab": {
          "base_uri": "https://localhost:8080/",
          "height": 300
        },
        "outputId": "1f54ee80-8a30-4530-cea8-5bd471fdfb1b"
      },
      "execution_count": 68,
      "outputs": [
        {
          "output_type": "execute_result",
          "data": {
            "text/html": [
              "\n",
              "  <div id=\"df-02650adb-995e-4144-b1a2-7671eb4e15e2\">\n",
              "    <div class=\"colab-df-container\">\n",
              "      <div>\n",
              "<style scoped>\n",
              "    .dataframe tbody tr th:only-of-type {\n",
              "        vertical-align: middle;\n",
              "    }\n",
              "\n",
              "    .dataframe tbody tr th {\n",
              "        vertical-align: top;\n",
              "    }\n",
              "\n",
              "    .dataframe thead tr th {\n",
              "        text-align: left;\n",
              "    }\n",
              "</style>\n",
              "<table border=\"1\" class=\"dataframe\">\n",
              "  <thead>\n",
              "    <tr>\n",
              "      <th></th>\n",
              "      <th>IP Mean</th>\n",
              "      <th>IP Sd</th>\n",
              "      <th>IP Kurtosis</th>\n",
              "      <th>IP Skewness</th>\n",
              "      <th>DM-SNR Mean</th>\n",
              "      <th>DM-SNR Sd</th>\n",
              "      <th>DM-SNR Kurtosis</th>\n",
              "      <th>DM-SNR Skewness</th>\n",
              "    </tr>\n",
              "  </thead>\n",
              "  <tbody>\n",
              "    <tr>\n",
              "      <th>count</th>\n",
              "      <td>8.625000e+03</td>\n",
              "      <td>8.625000e+03</td>\n",
              "      <td>8.625000e+03</td>\n",
              "      <td>8.625000e+03</td>\n",
              "      <td>8.625000e+03</td>\n",
              "      <td>8.625000e+03</td>\n",
              "      <td>8.625000e+03</td>\n",
              "      <td>8.625000e+03</td>\n",
              "    </tr>\n",
              "    <tr>\n",
              "      <th>mean</th>\n",
              "      <td>1.619445e-16</td>\n",
              "      <td>-6.613711e-16</td>\n",
              "      <td>1.015999e-16</td>\n",
              "      <td>-8.946145e-18</td>\n",
              "      <td>7.888054e-17</td>\n",
              "      <td>1.086152e-16</td>\n",
              "      <td>5.453930e-17</td>\n",
              "      <td>-1.467039e-16</td>\n",
              "    </tr>\n",
              "    <tr>\n",
              "      <th>std</th>\n",
              "      <td>1.000058e+00</td>\n",
              "      <td>1.000058e+00</td>\n",
              "      <td>1.000058e+00</td>\n",
              "      <td>1.000058e+00</td>\n",
              "      <td>1.000058e+00</td>\n",
              "      <td>1.000058e+00</td>\n",
              "      <td>1.000058e+00</td>\n",
              "      <td>1.000058e+00</td>\n",
              "    </tr>\n",
              "    <tr>\n",
              "      <th>min</th>\n",
              "      <td>-4.105741e+00</td>\n",
              "      <td>-3.196398e+00</td>\n",
              "      <td>-2.224842e+00</td>\n",
              "      <td>-5.714989e-01</td>\n",
              "      <td>-4.210997e-01</td>\n",
              "      <td>-9.717579e-01</td>\n",
              "      <td>-2.524579e+00</td>\n",
              "      <td>-9.987296e-01</td>\n",
              "    </tr>\n",
              "    <tr>\n",
              "      <th>25%</th>\n",
              "      <td>-3.925270e-01</td>\n",
              "      <td>-6.105761e-01</td>\n",
              "      <td>-4.262875e-01</td>\n",
              "      <td>-3.145502e-01</td>\n",
              "      <td>-3.642984e-01</td>\n",
              "      <td>-6.111474e-01</td>\n",
              "      <td>-5.618134e-01</td>\n",
              "      <td>-6.590092e-01</td>\n",
              "    </tr>\n",
              "    <tr>\n",
              "      <th>50%</th>\n",
              "      <td>1.606348e-01</td>\n",
              "      <td>5.697552e-02</td>\n",
              "      <td>-1.916612e-01</td>\n",
              "      <td>-2.513847e-01</td>\n",
              "      <td>-3.347028e-01</td>\n",
              "      <td>-4.045753e-01</td>\n",
              "      <td>2.784733e-02</td>\n",
              "      <td>-2.057192e-01</td>\n",
              "    </tr>\n",
              "    <tr>\n",
              "      <th>75%</th>\n",
              "      <td>6.260854e-01</td>\n",
              "      <td>6.565978e-01</td>\n",
              "      <td>2.269226e-03</td>\n",
              "      <td>-1.344629e-01</td>\n",
              "      <td>-2.449433e-01</td>\n",
              "      <td>1.098145e-01</td>\n",
              "      <td>5.255470e-01</td>\n",
              "      <td>3.164486e-01</td>\n",
              "    </tr>\n",
              "    <tr>\n",
              "      <th>max</th>\n",
              "      <td>3.074362e+00</td>\n",
              "      <td>6.644404e+00</td>\n",
              "      <td>7.541377e+00</td>\n",
              "      <td>9.959279e+00</td>\n",
              "      <td>6.964216e+00</td>\n",
              "      <td>4.304354e+00</td>\n",
              "      <td>5.797996e+00</td>\n",
              "      <td>1.016467e+01</td>\n",
              "    </tr>\n",
              "  </tbody>\n",
              "</table>\n",
              "</div>\n",
              "      <button class=\"colab-df-convert\" onclick=\"convertToInteractive('df-02650adb-995e-4144-b1a2-7671eb4e15e2')\"\n",
              "              title=\"Convert this dataframe to an interactive table.\"\n",
              "              style=\"display:none;\">\n",
              "        \n",
              "  <svg xmlns=\"http://www.w3.org/2000/svg\" height=\"24px\"viewBox=\"0 0 24 24\"\n",
              "       width=\"24px\">\n",
              "    <path d=\"M0 0h24v24H0V0z\" fill=\"none\"/>\n",
              "    <path d=\"M18.56 5.44l.94 2.06.94-2.06 2.06-.94-2.06-.94-.94-2.06-.94 2.06-2.06.94zm-11 1L8.5 8.5l.94-2.06 2.06-.94-2.06-.94L8.5 2.5l-.94 2.06-2.06.94zm10 10l.94 2.06.94-2.06 2.06-.94-2.06-.94-.94-2.06-.94 2.06-2.06.94z\"/><path d=\"M17.41 7.96l-1.37-1.37c-.4-.4-.92-.59-1.43-.59-.52 0-1.04.2-1.43.59L10.3 9.45l-7.72 7.72c-.78.78-.78 2.05 0 2.83L4 21.41c.39.39.9.59 1.41.59.51 0 1.02-.2 1.41-.59l7.78-7.78 2.81-2.81c.8-.78.8-2.07 0-2.86zM5.41 20L4 18.59l7.72-7.72 1.47 1.35L5.41 20z\"/>\n",
              "  </svg>\n",
              "      </button>\n",
              "      \n",
              "  <style>\n",
              "    .colab-df-container {\n",
              "      display:flex;\n",
              "      flex-wrap:wrap;\n",
              "      gap: 12px;\n",
              "    }\n",
              "\n",
              "    .colab-df-convert {\n",
              "      background-color: #E8F0FE;\n",
              "      border: none;\n",
              "      border-radius: 50%;\n",
              "      cursor: pointer;\n",
              "      display: none;\n",
              "      fill: #1967D2;\n",
              "      height: 32px;\n",
              "      padding: 0 0 0 0;\n",
              "      width: 32px;\n",
              "    }\n",
              "\n",
              "    .colab-df-convert:hover {\n",
              "      background-color: #E2EBFA;\n",
              "      box-shadow: 0px 1px 2px rgba(60, 64, 67, 0.3), 0px 1px 3px 1px rgba(60, 64, 67, 0.15);\n",
              "      fill: #174EA6;\n",
              "    }\n",
              "\n",
              "    [theme=dark] .colab-df-convert {\n",
              "      background-color: #3B4455;\n",
              "      fill: #D2E3FC;\n",
              "    }\n",
              "\n",
              "    [theme=dark] .colab-df-convert:hover {\n",
              "      background-color: #434B5C;\n",
              "      box-shadow: 0px 1px 3px 1px rgba(0, 0, 0, 0.15);\n",
              "      filter: drop-shadow(0px 1px 2px rgba(0, 0, 0, 0.3));\n",
              "      fill: #FFFFFF;\n",
              "    }\n",
              "  </style>\n",
              "\n",
              "      <script>\n",
              "        const buttonEl =\n",
              "          document.querySelector('#df-02650adb-995e-4144-b1a2-7671eb4e15e2 button.colab-df-convert');\n",
              "        buttonEl.style.display =\n",
              "          google.colab.kernel.accessAllowed ? 'block' : 'none';\n",
              "\n",
              "        async function convertToInteractive(key) {\n",
              "          const element = document.querySelector('#df-02650adb-995e-4144-b1a2-7671eb4e15e2');\n",
              "          const dataTable =\n",
              "            await google.colab.kernel.invokeFunction('convertToInteractive',\n",
              "                                                     [key], {});\n",
              "          if (!dataTable) return;\n",
              "\n",
              "          const docLinkHtml = 'Like what you see? Visit the ' +\n",
              "            '<a target=\"_blank\" href=https://colab.research.google.com/notebooks/data_table.ipynb>data table notebook</a>'\n",
              "            + ' to learn more about interactive tables.';\n",
              "          element.innerHTML = '';\n",
              "          dataTable['output_type'] = 'display_data';\n",
              "          await google.colab.output.renderOutput(dataTable, element);\n",
              "          const docLink = document.createElement('div');\n",
              "          docLink.innerHTML = docLinkHtml;\n",
              "          element.appendChild(docLink);\n",
              "        }\n",
              "      </script>\n",
              "    </div>\n",
              "  </div>\n",
              "  "
            ],
            "text/plain": [
              "            IP Mean         IP Sd  ... DM-SNR Kurtosis DM-SNR Skewness\n",
              "count  8.625000e+03  8.625000e+03  ...    8.625000e+03    8.625000e+03\n",
              "mean   1.619445e-16 -6.613711e-16  ...    5.453930e-17   -1.467039e-16\n",
              "std    1.000058e+00  1.000058e+00  ...    1.000058e+00    1.000058e+00\n",
              "min   -4.105741e+00 -3.196398e+00  ...   -2.524579e+00   -9.987296e-01\n",
              "25%   -3.925270e-01 -6.105761e-01  ...   -5.618134e-01   -6.590092e-01\n",
              "50%    1.606348e-01  5.697552e-02  ...    2.784733e-02   -2.057192e-01\n",
              "75%    6.260854e-01  6.565978e-01  ...    5.255470e-01    3.164486e-01\n",
              "max    3.074362e+00  6.644404e+00  ...    5.797996e+00    1.016467e+01\n",
              "\n",
              "[8 rows x 8 columns]"
            ]
          },
          "metadata": {},
          "execution_count": 68
        }
      ]
    },
    {
      "cell_type": "markdown",
      "source": [
        "We now have `X_train` dataset ready to be fed into the Logistic Regression classifier. I will do it as follows."
      ],
      "metadata": {
        "id": "msHrQ__c266Q"
      }
    },
    {
      "cell_type": "markdown",
      "source": [
        "# **12. Run SVM with default hyperparameters** <a class=\"anchor\" id=\"12\"></a>\n",
        "\n",
        "\n",
        "\n",
        "\n",
        "Default hyperparameter means C=1.0,  kernel=`rbf` and gamma=`auto` among other parameters."
      ],
      "metadata": {
        "id": "J1Xit7H6266Q"
      }
    },
    {
      "cell_type": "code",
      "source": [
        "# import SVC classifier\n",
        "\n",
        "\n",
        "# import metrics to compute accuracy\n",
        "\n",
        "\n",
        "\n",
        "# instantiate classifier with default hyperparameters\n",
        "model = svm.SVC(kernel='rbf',gamma='auto',C=1.0)\n",
        "model.fit(X_train,y_train)\n",
        "\n",
        "\n",
        "# fit classifier to training set\n",
        "y_pred =  model.predict(X_test)\n",
        "acc = accuracy_score(y_test,y_pred)\n",
        "print (\"predictions: \",y_pred)\n",
        "print (\"actual: \" ,y_test)\n",
        "print (\"accuracy: \",acc*100 )\n",
        "\n",
        "# make predictions on test set\n",
        "\n",
        "\n",
        "\n",
        "# compute and print accuracy score\n",
        "print('Model accuracy score with default hyperparameters: {0:0.4f}'. format(accuracy_score(y_test, y_pred)))"
      ],
      "metadata": {
        "trusted": true,
        "id": "PpM3k62L266Q",
        "colab": {
          "base_uri": "https://localhost:8080/"
        },
        "outputId": "955d36ad-397e-4b7c-88c2-c2c478a1185a"
      },
      "execution_count": 69,
      "outputs": [
        {
          "output_type": "stream",
          "name": "stderr",
          "text": [
            "/usr/local/lib/python3.7/dist-packages/sklearn/utils/validation.py:1692: FutureWarning: Feature names only support names that are all strings. Got feature names with dtypes: ['tuple']. An error will be raised in 1.2.\n",
            "  FutureWarning,\n",
            "/usr/local/lib/python3.7/dist-packages/sklearn/utils/validation.py:993: DataConversionWarning: A column-vector y was passed when a 1d array was expected. Please change the shape of y to (n_samples, ), for example using ravel().\n",
            "  y = column_or_1d(y, warn=True)\n"
          ]
        },
        {
          "output_type": "stream",
          "name": "stdout",
          "text": [
            "predictions:  [0. 0. 0. ... 0. 0. 0.]\n",
            "actual:         target_class\n",
            "4008            0.0\n",
            "11279           0.0\n",
            "7909            0.0\n",
            "6006            0.0\n",
            "12472           0.0\n",
            "...             ...\n",
            "11839           0.0\n",
            "9865            1.0\n",
            "6988            0.0\n",
            "9284            0.0\n",
            "5473            0.0\n",
            "\n",
            "[2157 rows x 1 columns]\n",
            "accuracy:  97.77468706536857\n",
            "Model accuracy score with default hyperparameters: 0.9777\n"
          ]
        },
        {
          "output_type": "stream",
          "name": "stderr",
          "text": [
            "/usr/local/lib/python3.7/dist-packages/sklearn/utils/validation.py:1692: FutureWarning: Feature names only support names that are all strings. Got feature names with dtypes: ['tuple']. An error will be raised in 1.2.\n",
            "  FutureWarning,\n"
          ]
        }
      ]
    },
    {
      "cell_type": "markdown",
      "source": [
        "### Run SVM with rbf kernel and C=100.0\n",
        "\n",
        "\n",
        "We have seen that there are outliers in our dataset. So, we should increase the value of C as higher C means fewer outliers. \n",
        "So, I will run SVM with kernel=`rbf` and C=100.0."
      ],
      "metadata": {
        "id": "7VgbvLXH266Q"
      }
    },
    {
      "cell_type": "code",
      "source": [
        "# instantiate classifier with rbf kernel and C=100\n",
        "\n",
        "\n",
        "# fit classifier to training set\n",
        "\n",
        "model_2 = svm.SVC(kernel='rbf',C=100.0,)\n",
        "model_2.fit(X_train,y_train)\n",
        "\n",
        "\n",
        "\n",
        "y_pred_2 =  model_2.predict(X_test)\n",
        "acc = accuracy_score(y_test,y_pred_2)\n",
        "print (\"predictions: \",y_pred_2)\n",
        "print (\"actual: \" ,y_test)\n",
        "print (\"accuracy: \",acc*100 )\n",
        "\n",
        "# make predictions on test set\n",
        "\n",
        "\n",
        "\n",
        "# compute and print accuracy score\n",
        "print('Model accuracy score with rbf kernel and C=100.0 : {0:0.4f}'. format(accuracy_score(y_test, y_pred_2)))"
      ],
      "metadata": {
        "trusted": true,
        "id": "0ASzWkG_266Q",
        "colab": {
          "base_uri": "https://localhost:8080/"
        },
        "outputId": "1404d9a5-b407-4c16-f272-bf3e5368faf6"
      },
      "execution_count": 70,
      "outputs": [
        {
          "output_type": "stream",
          "name": "stderr",
          "text": [
            "/usr/local/lib/python3.7/dist-packages/sklearn/utils/validation.py:1692: FutureWarning: Feature names only support names that are all strings. Got feature names with dtypes: ['tuple']. An error will be raised in 1.2.\n",
            "  FutureWarning,\n",
            "/usr/local/lib/python3.7/dist-packages/sklearn/utils/validation.py:993: DataConversionWarning: A column-vector y was passed when a 1d array was expected. Please change the shape of y to (n_samples, ), for example using ravel().\n",
            "  y = column_or_1d(y, warn=True)\n"
          ]
        },
        {
          "output_type": "stream",
          "name": "stdout",
          "text": [
            "predictions:  [0. 0. 0. ... 0. 0. 0.]\n",
            "actual:         target_class\n",
            "4008            0.0\n",
            "11279           0.0\n",
            "7909            0.0\n",
            "6006            0.0\n",
            "12472           0.0\n",
            "...             ...\n",
            "11839           0.0\n",
            "9865            1.0\n",
            "6988            0.0\n",
            "9284            0.0\n",
            "5473            0.0\n",
            "\n",
            "[2157 rows x 1 columns]\n",
            "accuracy:  97.86740843764488\n",
            "Model accuracy score with rbf kernel and C=100.0 : 0.9787\n"
          ]
        },
        {
          "output_type": "stream",
          "name": "stderr",
          "text": [
            "/usr/local/lib/python3.7/dist-packages/sklearn/utils/validation.py:1692: FutureWarning: Feature names only support names that are all strings. Got feature names with dtypes: ['tuple']. An error will be raised in 1.2.\n",
            "  FutureWarning,\n"
          ]
        }
      ]
    },
    {
      "cell_type": "markdown",
      "source": [
        "We can see that we obtain a higher accuracy with C=100.0 as higher C means less outliers.\n",
        "\n",
        "Now, I will further increase the value of C=1000.0 and check accuracy."
      ],
      "metadata": {
        "id": "YGcWwbAh266Q"
      }
    },
    {
      "cell_type": "markdown",
      "source": [
        "### Run SVM with rbf kernel and C=1000.0\n"
      ],
      "metadata": {
        "id": "3grQeJIn266R"
      }
    },
    {
      "cell_type": "code",
      "source": [
        "# instantiate classifier with rbf kernel and C=1000\n",
        "\n",
        "model_3 = svm.SVC(kernel='rbf',C=1000.0,)\n",
        "model_3.fit(X_train,y_train)\n",
        "\n",
        "\n",
        "\n",
        "y_pred_3 =  model_3.predict(X_test)\n",
        "acc = accuracy_score(y_test,y_pred_3)\n",
        "print (\"predictions: \",y_pred_3)\n",
        "print (\"actual: \" ,y_test)\n",
        "print (\"accuracy: \",acc*100 )\n",
        "\n",
        "# fit classifier to training set\n",
        "\n",
        "\n",
        "\n",
        "# make predictions on test set\n",
        "\n",
        "\n",
        "# compute and print accuracy score\n",
        "print('Model accuracy score with rbf kernel and C=1000.0 : {0:0.4f}'. format(accuracy_score(y_test, y_pred_3)))"
      ],
      "metadata": {
        "trusted": true,
        "id": "BouLhKWu266R",
        "colab": {
          "base_uri": "https://localhost:8080/"
        },
        "outputId": "8a8ef5ad-75b7-45db-eebb-6d13535fe6fa"
      },
      "execution_count": 71,
      "outputs": [
        {
          "output_type": "stream",
          "name": "stderr",
          "text": [
            "/usr/local/lib/python3.7/dist-packages/sklearn/utils/validation.py:1692: FutureWarning: Feature names only support names that are all strings. Got feature names with dtypes: ['tuple']. An error will be raised in 1.2.\n",
            "  FutureWarning,\n",
            "/usr/local/lib/python3.7/dist-packages/sklearn/utils/validation.py:993: DataConversionWarning: A column-vector y was passed when a 1d array was expected. Please change the shape of y to (n_samples, ), for example using ravel().\n",
            "  y = column_or_1d(y, warn=True)\n"
          ]
        },
        {
          "output_type": "stream",
          "name": "stdout",
          "text": [
            "predictions:  [0. 0. 0. ... 0. 0. 0.]\n",
            "actual:         target_class\n",
            "4008            0.0\n",
            "11279           0.0\n",
            "7909            0.0\n",
            "6006            0.0\n",
            "12472           0.0\n",
            "...             ...\n",
            "11839           0.0\n",
            "9865            1.0\n",
            "6988            0.0\n",
            "9284            0.0\n",
            "5473            0.0\n",
            "\n",
            "[2157 rows x 1 columns]\n",
            "accuracy:  97.82104775150671\n",
            "Model accuracy score with rbf kernel and C=1000.0 : 0.9782\n"
          ]
        },
        {
          "output_type": "stream",
          "name": "stderr",
          "text": [
            "/usr/local/lib/python3.7/dist-packages/sklearn/utils/validation.py:1692: FutureWarning: Feature names only support names that are all strings. Got feature names with dtypes: ['tuple']. An error will be raised in 1.2.\n",
            "  FutureWarning,\n"
          ]
        }
      ]
    },
    {
      "cell_type": "markdown",
      "source": [
        "In this case, we can see that the accuracy had decreased with C=1000.0"
      ],
      "metadata": {
        "id": "lVkmNEC5266R"
      }
    },
    {
      "cell_type": "markdown",
      "source": [
        "# **13. Run SVM with linear kernel** <a class=\"anchor\" id=\"13\"></a>\n",
        "\n",
        "\n",
        "### Run SVM with linear kernel and C=1.0"
      ],
      "metadata": {
        "id": "C1587ew2266R"
      }
    },
    {
      "cell_type": "code",
      "source": [
        "# instantiate classifier with linear kernel and C=1.0\n",
        "\n",
        "model_4 = svm.SVC(kernel='linear',C=1.0,)\n",
        "model_4.fit(X_train,y_train)\n",
        "\n",
        "\n",
        "\n",
        "y_pred_4 =  model_4.predict(X_test)\n",
        "acc = accuracy_score(y_test,y_pred_4)\n",
        "print (\"predictions: \",y_pred_4)\n",
        "print (\"actual: \" ,y_test)\n",
        "print (\"accuracy: \",acc*100 )\n",
        "\n",
        "# fit classifier to training set\n",
        "\n",
        "\n",
        "\n",
        "# make predictions on test set\n",
        "\n",
        "\n",
        "\n",
        "# compute and print accuracy score\n",
        "print('Model accuracy score with linear kernel and C=1.0 : {0:0.4f}'. format(accuracy_score(y_test, y_pred_4)))\n"
      ],
      "metadata": {
        "trusted": true,
        "id": "0IgzanHz266R",
        "colab": {
          "base_uri": "https://localhost:8080/"
        },
        "outputId": "1732d658-7a9f-4803-aa85-b58ee85e43e9"
      },
      "execution_count": 72,
      "outputs": [
        {
          "output_type": "stream",
          "name": "stderr",
          "text": [
            "/usr/local/lib/python3.7/dist-packages/sklearn/utils/validation.py:1692: FutureWarning: Feature names only support names that are all strings. Got feature names with dtypes: ['tuple']. An error will be raised in 1.2.\n",
            "  FutureWarning,\n",
            "/usr/local/lib/python3.7/dist-packages/sklearn/utils/validation.py:993: DataConversionWarning: A column-vector y was passed when a 1d array was expected. Please change the shape of y to (n_samples, ), for example using ravel().\n",
            "  y = column_or_1d(y, warn=True)\n"
          ]
        },
        {
          "output_type": "stream",
          "name": "stdout",
          "text": [
            "predictions:  [0. 0. 0. ... 0. 0. 0.]\n",
            "actual:         target_class\n",
            "4008            0.0\n",
            "11279           0.0\n",
            "7909            0.0\n",
            "6006            0.0\n",
            "12472           0.0\n",
            "...             ...\n",
            "11839           0.0\n",
            "9865            1.0\n",
            "6988            0.0\n",
            "9284            0.0\n",
            "5473            0.0\n",
            "\n",
            "[2157 rows x 1 columns]\n",
            "accuracy:  97.54288363467779\n",
            "Model accuracy score with linear kernel and C=1.0 : 0.9754\n"
          ]
        },
        {
          "output_type": "stream",
          "name": "stderr",
          "text": [
            "/usr/local/lib/python3.7/dist-packages/sklearn/utils/validation.py:1692: FutureWarning: Feature names only support names that are all strings. Got feature names with dtypes: ['tuple']. An error will be raised in 1.2.\n",
            "  FutureWarning,\n"
          ]
        }
      ]
    },
    {
      "cell_type": "markdown",
      "source": [
        "### Run SVM with linear kernel and C=100.0"
      ],
      "metadata": {
        "id": "OkOVKJl4266R"
      }
    },
    {
      "cell_type": "code",
      "source": [
        "# instantiate classifier with linear kernel and C=100.0\n",
        "\n",
        "\n",
        "\n",
        "# fit classifier to training set\n",
        "\n",
        "model_5 = svm.SVC(kernel='linear',C=100.0,)\n",
        "model_5.fit(X_train,y_train)\n",
        "\n",
        "\n",
        "\n",
        "y_pred_5 =  model_5.predict(X_test)\n",
        "acc = accuracy_score(y_test,y_pred_5)\n",
        "print (\"predictions: \",y_pred_5)\n",
        "print (\"actual: \" ,y_test)\n",
        "print (\"accuracy: \",acc*100 )\n",
        "\n",
        "# make predictions on test set\n",
        "\n",
        "\n",
        "\n",
        "# compute and print accuracy score\n",
        "print('Model accuracy score with linear kernel and C=1.0 : {0:0.4f}'. format(accuracy_score(y_test, y_pred_5)))"
      ],
      "metadata": {
        "trusted": true,
        "id": "bVM0kbEk266R",
        "colab": {
          "base_uri": "https://localhost:8080/"
        },
        "outputId": "eb25d7e9-30bb-4e11-fbf7-ece836f73442"
      },
      "execution_count": 73,
      "outputs": [
        {
          "output_type": "stream",
          "name": "stderr",
          "text": [
            "/usr/local/lib/python3.7/dist-packages/sklearn/utils/validation.py:1692: FutureWarning: Feature names only support names that are all strings. Got feature names with dtypes: ['tuple']. An error will be raised in 1.2.\n",
            "  FutureWarning,\n",
            "/usr/local/lib/python3.7/dist-packages/sklearn/utils/validation.py:993: DataConversionWarning: A column-vector y was passed when a 1d array was expected. Please change the shape of y to (n_samples, ), for example using ravel().\n",
            "  y = column_or_1d(y, warn=True)\n"
          ]
        },
        {
          "output_type": "stream",
          "name": "stdout",
          "text": [
            "predictions:  [0. 0. 0. ... 0. 0. 0.]\n",
            "actual:         target_class\n",
            "4008            0.0\n",
            "11279           0.0\n",
            "7909            0.0\n",
            "6006            0.0\n",
            "12472           0.0\n",
            "...             ...\n",
            "11839           0.0\n",
            "9865            1.0\n",
            "6988            0.0\n",
            "9284            0.0\n",
            "5473            0.0\n",
            "\n",
            "[2157 rows x 1 columns]\n",
            "accuracy:  97.54288363467779\n",
            "Model accuracy score with linear kernel and C=1.0 : 0.9754\n"
          ]
        },
        {
          "output_type": "stream",
          "name": "stderr",
          "text": [
            "/usr/local/lib/python3.7/dist-packages/sklearn/utils/validation.py:1692: FutureWarning: Feature names only support names that are all strings. Got feature names with dtypes: ['tuple']. An error will be raised in 1.2.\n",
            "  FutureWarning,\n"
          ]
        }
      ]
    },
    {
      "cell_type": "markdown",
      "source": [
        "### Run SVM with linear kernel and C=1000.0"
      ],
      "metadata": {
        "id": "wfQgZEm1266S"
      }
    },
    {
      "cell_type": "code",
      "source": [
        "model_6 = svm.SVC(kernel='linear',C=1000.0,)\n",
        "model_6.fit(X_train,y_train)\n",
        "\n",
        "\n",
        "\n",
        "y_pred_6 =  model_6.predict(X_test)\n",
        "acc = accuracy_score(y_test,y_pred_6)\n",
        "print (\"predictions: \",y_pred_6)\n",
        "print (\"actual: \" ,y_test)\n",
        "print (\"accuracy: \",acc*100 )\n",
        "print('Model accuracy score with linear kernel and C=1.0 : {0:0.4f}'. format(accuracy_score(y_test, y_pred_6)))"
      ],
      "metadata": {
        "trusted": true,
        "id": "AGHgFeGs266S",
        "colab": {
          "base_uri": "https://localhost:8080/"
        },
        "outputId": "4760377d-de87-4259-fa77-564c15697175"
      },
      "execution_count": 74,
      "outputs": [
        {
          "output_type": "stream",
          "name": "stderr",
          "text": [
            "/usr/local/lib/python3.7/dist-packages/sklearn/utils/validation.py:1692: FutureWarning: Feature names only support names that are all strings. Got feature names with dtypes: ['tuple']. An error will be raised in 1.2.\n",
            "  FutureWarning,\n",
            "/usr/local/lib/python3.7/dist-packages/sklearn/utils/validation.py:993: DataConversionWarning: A column-vector y was passed when a 1d array was expected. Please change the shape of y to (n_samples, ), for example using ravel().\n",
            "  y = column_or_1d(y, warn=True)\n"
          ]
        },
        {
          "output_type": "stream",
          "name": "stdout",
          "text": [
            "predictions:  [0. 0. 0. ... 0. 0. 0.]\n",
            "actual:         target_class\n",
            "4008            0.0\n",
            "11279           0.0\n",
            "7909            0.0\n",
            "6006            0.0\n",
            "12472           0.0\n",
            "...             ...\n",
            "11839           0.0\n",
            "9865            1.0\n",
            "6988            0.0\n",
            "9284            0.0\n",
            "5473            0.0\n",
            "\n",
            "[2157 rows x 1 columns]\n",
            "accuracy:  97.54288363467779\n",
            "Model accuracy score with linear kernel and C=1.0 : 0.9754\n"
          ]
        },
        {
          "output_type": "stream",
          "name": "stderr",
          "text": [
            "/usr/local/lib/python3.7/dist-packages/sklearn/utils/validation.py:1692: FutureWarning: Feature names only support names that are all strings. Got feature names with dtypes: ['tuple']. An error will be raised in 1.2.\n",
            "  FutureWarning,\n"
          ]
        }
      ]
    },
    {
      "cell_type": "markdown",
      "source": [
        "We can see that we can obtain higher accuracy with C=100.0 and C=1000.0 as compared to C=1.0."
      ],
      "metadata": {
        "id": "Cxd2YQiy266S"
      }
    },
    {
      "cell_type": "markdown",
      "source": [
        "Here, **y_test** are the true class labels and **y_pred** are the predicted class labels in the test-set."
      ],
      "metadata": {
        "id": "qNo-QB-4266S"
      }
    },
    {
      "cell_type": "markdown",
      "source": [
        "### Compare the train-set and test-set accuracy\n",
        "\n",
        "\n",
        "Now, I will compare the train-set and test-set accuracy to check for overfitting."
      ],
      "metadata": {
        "id": "t28VdbVh266T"
      }
    },
    {
      "cell_type": "code",
      "source": [
        "model_7 = svm.SVC(kernel='linear',C=1000.0,)\n",
        "model_7.fit(X_train,y_train)\n",
        "\n",
        "\n",
        "\n",
        "y_pred_7 =  model_7.predict(X_test)\n",
        "acc = accuracy_score(y_test,y_pred_7)\n",
        "# print (\"predictions: \",y_pred_7)\n",
        "# print (\"actual: \" ,y_test)\n",
        "print (\"accuracy: \",acc*100 )\n",
        "print('Model accuracy score with linear kernel and C=1.0 : {0:0.4f}'. format(accuracy_score(y_test, y_pred_6)))"
      ],
      "metadata": {
        "trusted": true,
        "id": "UevotRCH266T",
        "colab": {
          "base_uri": "https://localhost:8080/"
        },
        "outputId": "7e726d1b-d50c-4714-e5f2-7c1d88cc6e26"
      },
      "execution_count": 79,
      "outputs": [
        {
          "output_type": "stream",
          "name": "stderr",
          "text": [
            "/usr/local/lib/python3.7/dist-packages/sklearn/utils/validation.py:1692: FutureWarning: Feature names only support names that are all strings. Got feature names with dtypes: ['tuple']. An error will be raised in 1.2.\n",
            "  FutureWarning,\n",
            "/usr/local/lib/python3.7/dist-packages/sklearn/utils/validation.py:993: DataConversionWarning: A column-vector y was passed when a 1d array was expected. Please change the shape of y to (n_samples, ), for example using ravel().\n",
            "  y = column_or_1d(y, warn=True)\n"
          ]
        },
        {
          "output_type": "stream",
          "name": "stdout",
          "text": [
            "accuracy:  97.54288363467779\n",
            "Model accuracy score with linear kernel and C=1.0 : 0.9754\n"
          ]
        },
        {
          "output_type": "stream",
          "name": "stderr",
          "text": [
            "/usr/local/lib/python3.7/dist-packages/sklearn/utils/validation.py:1692: FutureWarning: Feature names only support names that are all strings. Got feature names with dtypes: ['tuple']. An error will be raised in 1.2.\n",
            "  FutureWarning,\n"
          ]
        }
      ]
    },
    {
      "cell_type": "code",
      "source": [
        "model_8 = svm.SVC(kernel='linear',C=1000.0,)\n",
        "model_8.fit(X_train,y_train)\n",
        "\n",
        "\n",
        "\n",
        "y_pred_8 =  model_8.predict(X_train)\n",
        "acc = accuracy_score(y_train,y_pred_8)\n",
        "# print (\"predictions: \",y_pred_8)\n",
        "# print (\"actual: \" ,y_test)\n",
        "print (\"accuracy: \",acc*100 )\n",
        "print('Model accuracy score with linear kernel and C=1.0 : {0:0.4f}'. format(accuracy_score(y_test, y_pred_6)))"
      ],
      "metadata": {
        "trusted": true,
        "id": "fXd5icaj266T",
        "colab": {
          "base_uri": "https://localhost:8080/"
        },
        "outputId": "d1ab9891-a441-4468-f186-a2949c009334"
      },
      "execution_count": 80,
      "outputs": [
        {
          "output_type": "stream",
          "name": "stderr",
          "text": [
            "/usr/local/lib/python3.7/dist-packages/sklearn/utils/validation.py:1692: FutureWarning: Feature names only support names that are all strings. Got feature names with dtypes: ['tuple']. An error will be raised in 1.2.\n",
            "  FutureWarning,\n",
            "/usr/local/lib/python3.7/dist-packages/sklearn/utils/validation.py:993: DataConversionWarning: A column-vector y was passed when a 1d array was expected. Please change the shape of y to (n_samples, ), for example using ravel().\n",
            "  y = column_or_1d(y, warn=True)\n"
          ]
        },
        {
          "output_type": "stream",
          "name": "stdout",
          "text": [
            "accuracy:  97.68115942028986\n",
            "Model accuracy score with linear kernel and C=1.0 : 0.9754\n"
          ]
        },
        {
          "output_type": "stream",
          "name": "stderr",
          "text": [
            "/usr/local/lib/python3.7/dist-packages/sklearn/utils/validation.py:1692: FutureWarning: Feature names only support names that are all strings. Got feature names with dtypes: ['tuple']. An error will be raised in 1.2.\n",
            "  FutureWarning,\n"
          ]
        }
      ]
    },
    {
      "cell_type": "markdown",
      "source": [
        "We can see that the training set and test-set accuracy are very much comparable."
      ],
      "metadata": {
        "id": "EzE8Nnyb266U"
      }
    },
    {
      "cell_type": "markdown",
      "source": [
        "### Check for overfitting and underfitting"
      ],
      "metadata": {
        "id": "srGQP9yk266U"
      }
    },
    {
      "cell_type": "code",
      "source": [
        "# print the scores on training and test set\n",
        "\n"
      ],
      "metadata": {
        "trusted": true,
        "id": "xGFK2KSt266U"
      },
      "execution_count": 75,
      "outputs": []
    },
    {
      "cell_type": "markdown",
      "source": [
        "The training-set accuracy score is 0.9783 while the test-set accuracy to be 0.9830. These two values are quite comparable. So, there is no question of overfitting. \n"
      ],
      "metadata": {
        "id": "qD26Z8WW266U"
      }
    },
    {
      "cell_type": "markdown",
      "source": [
        "### Compare model accuracy with null accuracy\n",
        "\n",
        "\n",
        "So, the model accuracy is 0.9832. But, we cannot say that our model is very good based on the above accuracy. We must compare it with the **null accuracy**. Null accuracy is the accuracy that could be achieved by always predicting the most frequent class.\n",
        "\n",
        "So, we should first check the class distribution in the test set. "
      ],
      "metadata": {
        "id": "d4Dh8qJR266U"
      }
    },
    {
      "cell_type": "code",
      "source": [
        "# check class distribution in test set\n"
      ],
      "metadata": {
        "trusted": true,
        "id": "s76cn-cG266U"
      },
      "execution_count": 76,
      "outputs": []
    },
    {
      "cell_type": "markdown",
      "source": [
        "We can see that the occurences of most frequent class `0` is 3306. So, we can calculate null accuracy by dividing 3306 by total number of occurences."
      ],
      "metadata": {
        "id": "kBkfBXdp266U"
      }
    },
    {
      "cell_type": "code",
      "source": [
        "# check null accuracy score\n",
        "\n",
        "null_accuracy = (3306/(3306+274))\n",
        "\n",
        "print('Null accuracy score: {0:0.4f}'. format(null_accuracy))"
      ],
      "metadata": {
        "trusted": true,
        "id": "WR1PSYbG266V",
        "colab": {
          "base_uri": "https://localhost:8080/"
        },
        "outputId": "478f8330-a4e2-4396-ca98-3f4e95f85a15"
      },
      "execution_count": 77,
      "outputs": [
        {
          "output_type": "stream",
          "name": "stdout",
          "text": [
            "Null accuracy score: 0.9235\n"
          ]
        }
      ]
    },
    {
      "cell_type": "markdown",
      "source": [
        "We can see that our model accuracy score is 0.9830 but null accuracy score is 0.9235. So, we can conclude that our SVM classifier is doing a very good job in predicting the class labels."
      ],
      "metadata": {
        "id": "gXagH__I266V"
      }
    },
    {
      "cell_type": "markdown",
      "source": [
        "# **14. Run SVM with polynomial kernel** <a class=\"anchor\" id=\"14\"></a>\n",
        "\n",
        "\n",
        "\n",
        "### Run SVM with polynomial kernel and C=1.0"
      ],
      "metadata": {
        "id": "geAheTcf266V"
      }
    },
    {
      "cell_type": "code",
      "source": [
        "model_9 = svm.SVC(kernel=\"poly\",C=1.0,)\n",
        "model_9.fit(X_train,y_train)\n",
        "\n",
        "\n",
        "\n",
        "y_pred_9 =  model_9.predict(X_train)\n",
        "acc = accuracy_score(y_train,y_pred_9)\n",
        "# print (\"predictions: \",y_pred_8)\n",
        "# print (\"actual: \" ,y_test)\n",
        "print (\"accuracy: \",acc*100 )"
      ],
      "metadata": {
        "trusted": true,
        "id": "ofUqtfLq266V",
        "colab": {
          "base_uri": "https://localhost:8080/"
        },
        "outputId": "16aa424f-4633-4b17-dcee-3cee42fd8851"
      },
      "execution_count": 82,
      "outputs": [
        {
          "output_type": "stream",
          "name": "stderr",
          "text": [
            "/usr/local/lib/python3.7/dist-packages/sklearn/utils/validation.py:1692: FutureWarning: Feature names only support names that are all strings. Got feature names with dtypes: ['tuple']. An error will be raised in 1.2.\n",
            "  FutureWarning,\n",
            "/usr/local/lib/python3.7/dist-packages/sklearn/utils/validation.py:993: DataConversionWarning: A column-vector y was passed when a 1d array was expected. Please change the shape of y to (n_samples, ), for example using ravel().\n",
            "  y = column_or_1d(y, warn=True)\n"
          ]
        },
        {
          "output_type": "stream",
          "name": "stdout",
          "text": [
            "accuracy:  97.5304347826087\n"
          ]
        },
        {
          "output_type": "stream",
          "name": "stderr",
          "text": [
            "/usr/local/lib/python3.7/dist-packages/sklearn/utils/validation.py:1692: FutureWarning: Feature names only support names that are all strings. Got feature names with dtypes: ['tuple']. An error will be raised in 1.2.\n",
            "  FutureWarning,\n"
          ]
        }
      ]
    },
    {
      "cell_type": "markdown",
      "source": [
        " ### Run SVM with polynomial kernel and C=100.0"
      ],
      "metadata": {
        "id": "eNzoh5qF266V"
      }
    },
    {
      "cell_type": "code",
      "source": [
        "model_9 = svm.SVC(kernel=\"poly\",C=1000.0,)\n",
        "model_9.fit(X_train,y_train)\n",
        "\n",
        "\n",
        "\n",
        "y_pred_9 =  model_9.predict(X_train)\n",
        "acc = accuracy_score(y_train,y_pred_9)\n",
        "# print (\"predictions: \",y_pred_8)\n",
        "# print (\"actual: \" ,y_test)\n",
        "print (\"accuracy: \",acc*100 )\n",
        "\n"
      ],
      "metadata": {
        "trusted": true,
        "id": "VHVE4wZx266V",
        "colab": {
          "base_uri": "https://localhost:8080/"
        },
        "outputId": "431d5898-ce6b-413d-9de6-dd3976338872"
      },
      "execution_count": 83,
      "outputs": [
        {
          "output_type": "stream",
          "name": "stderr",
          "text": [
            "/usr/local/lib/python3.7/dist-packages/sklearn/utils/validation.py:1692: FutureWarning: Feature names only support names that are all strings. Got feature names with dtypes: ['tuple']. An error will be raised in 1.2.\n",
            "  FutureWarning,\n",
            "/usr/local/lib/python3.7/dist-packages/sklearn/utils/validation.py:993: DataConversionWarning: A column-vector y was passed when a 1d array was expected. Please change the shape of y to (n_samples, ), for example using ravel().\n",
            "  y = column_or_1d(y, warn=True)\n"
          ]
        },
        {
          "output_type": "stream",
          "name": "stdout",
          "text": [
            "accuracy:  98.05217391304349\n"
          ]
        },
        {
          "output_type": "stream",
          "name": "stderr",
          "text": [
            "/usr/local/lib/python3.7/dist-packages/sklearn/utils/validation.py:1692: FutureWarning: Feature names only support names that are all strings. Got feature names with dtypes: ['tuple']. An error will be raised in 1.2.\n",
            "  FutureWarning,\n"
          ]
        }
      ]
    },
    {
      "cell_type": "markdown",
      "source": [
        "Polynomial kernel gives poor performance. It may be overfitting the training set."
      ],
      "metadata": {
        "id": "ZZ_8c0Kc266V"
      }
    },
    {
      "cell_type": "markdown",
      "source": [
        "# **15. Run SVM with sigmoid kernel** <a class=\"anchor\" id=\"15\"></a>\n",
        "\n",
        "\n",
        "\n",
        "\n",
        "### Run SVM with sigmoid kernel and C=1.0"
      ],
      "metadata": {
        "id": "982659Y8266V"
      }
    },
    {
      "cell_type": "code",
      "source": [
        "model_9 = svm.SVC(kernel=\"sigmoid\",C=1.0,)\n",
        "model_9.fit(X_train,y_train)\n",
        "\n",
        "\n",
        "\n",
        "y_pred_9 =  model_9.predict(X_train)\n",
        "acc = accuracy_score(y_train,y_pred_9)\n",
        "# print (\"predictions: \",y_pred_8)\n",
        "# print (\"actual: \" ,y_test)\n",
        "print (\"accuracy: \",acc*100 )"
      ],
      "metadata": {
        "trusted": true,
        "id": "CpzMGngC266W",
        "colab": {
          "base_uri": "https://localhost:8080/"
        },
        "outputId": "7aa5baf5-3749-4b66-aa21-eb55b55f9651"
      },
      "execution_count": 84,
      "outputs": [
        {
          "output_type": "stream",
          "name": "stderr",
          "text": [
            "/usr/local/lib/python3.7/dist-packages/sklearn/utils/validation.py:1692: FutureWarning: Feature names only support names that are all strings. Got feature names with dtypes: ['tuple']. An error will be raised in 1.2.\n",
            "  FutureWarning,\n",
            "/usr/local/lib/python3.7/dist-packages/sklearn/utils/validation.py:993: DataConversionWarning: A column-vector y was passed when a 1d array was expected. Please change the shape of y to (n_samples, ), for example using ravel().\n",
            "  y = column_or_1d(y, warn=True)\n",
            "/usr/local/lib/python3.7/dist-packages/sklearn/utils/validation.py:1692: FutureWarning: Feature names only support names that are all strings. Got feature names with dtypes: ['tuple']. An error will be raised in 1.2.\n",
            "  FutureWarning,\n"
          ]
        },
        {
          "output_type": "stream",
          "name": "stdout",
          "text": [
            "accuracy:  86.72463768115942\n"
          ]
        }
      ]
    },
    {
      "cell_type": "markdown",
      "source": [
        "### Run SVM with sigmoid kernel and C=100.0"
      ],
      "metadata": {
        "id": "y7dYIEvK266W"
      }
    },
    {
      "cell_type": "code",
      "source": [
        "model_9 = svm.SVC(kernel=\"sigmoid\",C=100.0,)\n",
        "model_9.fit(X_train,y_train)\n",
        "\n",
        "\n",
        "\n",
        "y_pred_9 =  model_9.predict(X_train)\n",
        "acc = accuracy_score(y_train,y_pred_9)\n",
        "# print (\"predictions: \",y_pred_8)\n",
        "# print (\"actual: \" ,y_test)\n",
        "print (\"accuracy: \",acc*100 )"
      ],
      "metadata": {
        "trusted": true,
        "id": "eHOp2xcr266W",
        "colab": {
          "base_uri": "https://localhost:8080/"
        },
        "outputId": "16c400d8-2181-46b9-a12f-e96ff1b9a689"
      },
      "execution_count": 85,
      "outputs": [
        {
          "output_type": "stream",
          "name": "stderr",
          "text": [
            "/usr/local/lib/python3.7/dist-packages/sklearn/utils/validation.py:1692: FutureWarning: Feature names only support names that are all strings. Got feature names with dtypes: ['tuple']. An error will be raised in 1.2.\n",
            "  FutureWarning,\n",
            "/usr/local/lib/python3.7/dist-packages/sklearn/utils/validation.py:993: DataConversionWarning: A column-vector y was passed when a 1d array was expected. Please change the shape of y to (n_samples, ), for example using ravel().\n",
            "  y = column_or_1d(y, warn=True)\n",
            "/usr/local/lib/python3.7/dist-packages/sklearn/utils/validation.py:1692: FutureWarning: Feature names only support names that are all strings. Got feature names with dtypes: ['tuple']. An error will be raised in 1.2.\n",
            "  FutureWarning,\n"
          ]
        },
        {
          "output_type": "stream",
          "name": "stdout",
          "text": [
            "accuracy:  86.65507246376811\n"
          ]
        }
      ]
    },
    {
      "cell_type": "markdown",
      "source": [
        "### Comments\n",
        "What are your conclusions about the above experiment?\n",
        "\n",
        "Bonus: The above dataset is imbalanced. What are the other ways to quantify predictive performance? Carry out experiments using them\n"
      ],
      "metadata": {
        "id": "CkJnhoyN266W"
      }
    },
    {
      "cell_type": "markdown",
      "source": [
        "ROC curve help us to choose a threshold level that balances sensitivity and specificity for a particular context."
      ],
      "metadata": {
        "id": "oKnuzo2X266W"
      }
    },
    {
      "cell_type": "markdown",
      "source": [
        "# **22. References** <a class=\"anchor\" id=\"22\"></a>\n",
        "\n",
        "\n",
        "\n",
        "The work done in this project is inspired from following books and websites:-\n",
        "\n",
        "  1. Hands on Machine Learning with Scikit-Learn and Tensorflow by Aurélién Géron\n",
        "\n",
        "  2. Introduction to Machine Learning with Python by Andreas C. Müller and Sarah Guido\n",
        "\n",
        "  3. Udemy course – Machine Learning – A Z by Kirill Eremenko and Hadelin de Ponteves\n",
        "\n",
        "  4. Udemy course – Feature Engineering for Machine Learning by Soledad Galli\n",
        "\n",
        "  5. https://en.wikipedia.org/wiki/Support-vector_machine\n",
        "\n",
        "  6. https://www.datacamp.com/community/tutorials/svm-classification-scikit-learn-python\n",
        "\n",
        "  7. http://dataaspirant.com/2017/01/13/support-vector-machine-algorithm/\n",
        "\n",
        "  8. https://www.ritchieng.com/machine-learning-evaluate-classification-model/\n",
        "\n",
        "  9. https://en.wikipedia.org/wiki/Kernel_method\n",
        "\n",
        "  10. https://en.wikipedia.org/wiki/Polynomial_kernel\n",
        "\n",
        "  11. https://en.wikipedia.org/wiki/Radial_basis_function_kernel\n",
        "\n",
        "  12. https://data-flair.training/blogs/svm-kernel-functions/"
      ],
      "metadata": {
        "id": "BDNG-aRS266W"
      }
    },
    {
      "cell_type": "markdown",
      "source": [
        "[Go to Top](#0)"
      ],
      "metadata": {
        "id": "t5FCFf8F266W"
      }
    }
  ]
}